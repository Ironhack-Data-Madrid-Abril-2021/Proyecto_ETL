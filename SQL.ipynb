{
 "cells": [
  {
   "cell_type": "code",
   "execution_count": 1,
   "metadata": {},
   "outputs": [],
   "source": [
    "import pandas as pd\n",
    "import numpy as np\n",
    "\n",
    "\n",
    "pd.set_option('display.max_columns', None)\n",
    "\n",
    "import warnings\n",
    "warnings.simplefilter('ignore')"
   ]
  },
  {
   "cell_type": "code",
   "execution_count": 2,
   "metadata": {},
   "outputs": [
    {
     "data": {
      "text/html": [
       "<div>\n",
       "<style scoped>\n",
       "    .dataframe tbody tr th:only-of-type {\n",
       "        vertical-align: middle;\n",
       "    }\n",
       "\n",
       "    .dataframe tbody tr th {\n",
       "        vertical-align: top;\n",
       "    }\n",
       "\n",
       "    .dataframe thead th {\n",
       "        text-align: right;\n",
       "    }\n",
       "</style>\n",
       "<table border=\"1\" class=\"dataframe\">\n",
       "  <thead>\n",
       "    <tr style=\"text-align: right;\">\n",
       "      <th></th>\n",
       "      <th>datetime</th>\n",
       "      <th>duration_in_secs</th>\n",
       "      <th>country</th>\n",
       "      <th>city</th>\n",
       "      <th>shape</th>\n",
       "      <th>coordinates</th>\n",
       "      <th>coordinates_area_51</th>\n",
       "      <th>coordinates_palo_verde_nuclear_generating_station</th>\n",
       "      <th>distance_in _km_from_palo_verde_ngs</th>\n",
       "      <th>distance_in _km_from_a51</th>\n",
       "    </tr>\n",
       "  </thead>\n",
       "  <tbody>\n",
       "    <tr>\n",
       "      <th>0</th>\n",
       "      <td>2014-05-01 21:00:00</td>\n",
       "      <td>2700.0</td>\n",
       "      <td>us</td>\n",
       "      <td>los angeles</td>\n",
       "      <td>light</td>\n",
       "      <td>(34.0522222, -118.2427778)</td>\n",
       "      <td>(37.234332396, -115.80666344)</td>\n",
       "      <td>(33.3916667, -112.8638889)</td>\n",
       "      <td>502</td>\n",
       "      <td>416</td>\n",
       "    </tr>\n",
       "    <tr>\n",
       "      <th>1</th>\n",
       "      <td>2014-04-30 21:10:00</td>\n",
       "      <td>60.0</td>\n",
       "      <td>us</td>\n",
       "      <td>las vegas</td>\n",
       "      <td>light</td>\n",
       "      <td>(36.175, -115.1363889)</td>\n",
       "      <td>(37.234332396, -115.80666344)</td>\n",
       "      <td>(33.3916667, -112.8638889)</td>\n",
       "      <td>372</td>\n",
       "      <td>132</td>\n",
       "    </tr>\n",
       "    <tr>\n",
       "      <th>2</th>\n",
       "      <td>2014-04-24 20:00:00</td>\n",
       "      <td>240.0</td>\n",
       "      <td>us</td>\n",
       "      <td>phoenix</td>\n",
       "      <td>circle</td>\n",
       "      <td>(33.4483333, -112.07333329999999)</td>\n",
       "      <td>(37.234332396, -115.80666344)</td>\n",
       "      <td>(33.3916667, -112.8638889)</td>\n",
       "      <td>73</td>\n",
       "      <td>540</td>\n",
       "    </tr>\n",
       "    <tr>\n",
       "      <th>3</th>\n",
       "      <td>2014-04-23 20:30:00</td>\n",
       "      <td>300.0</td>\n",
       "      <td>us</td>\n",
       "      <td>phoenix</td>\n",
       "      <td>circle</td>\n",
       "      <td>(33.4483333, -112.07333329999999)</td>\n",
       "      <td>(37.234332396, -115.80666344)</td>\n",
       "      <td>(33.3916667, -112.8638889)</td>\n",
       "      <td>73</td>\n",
       "      <td>540</td>\n",
       "    </tr>\n",
       "    <tr>\n",
       "      <th>4</th>\n",
       "      <td>2014-04-20 22:50:00</td>\n",
       "      <td>5.0</td>\n",
       "      <td>us</td>\n",
       "      <td>seattle</td>\n",
       "      <td>formation</td>\n",
       "      <td>(47.6063889, -122.33083329999998)</td>\n",
       "      <td>(37.234332396, -115.80666344)</td>\n",
       "      <td>(33.3916667, -112.8638889)</td>\n",
       "      <td>1768</td>\n",
       "      <td>1270</td>\n",
       "    </tr>\n",
       "  </tbody>\n",
       "</table>\n",
       "</div>"
      ],
      "text/plain": [
       "              datetime  duration_in_secs country         city      shape  \\\n",
       "0  2014-05-01 21:00:00            2700.0      us  los angeles      light   \n",
       "1  2014-04-30 21:10:00              60.0      us    las vegas      light   \n",
       "2  2014-04-24 20:00:00             240.0      us      phoenix     circle   \n",
       "3  2014-04-23 20:30:00             300.0      us      phoenix     circle   \n",
       "4  2014-04-20 22:50:00               5.0      us      seattle  formation   \n",
       "\n",
       "                         coordinates            coordinates_area_51  \\\n",
       "0         (34.0522222, -118.2427778)  (37.234332396, -115.80666344)   \n",
       "1             (36.175, -115.1363889)  (37.234332396, -115.80666344)   \n",
       "2  (33.4483333, -112.07333329999999)  (37.234332396, -115.80666344)   \n",
       "3  (33.4483333, -112.07333329999999)  (37.234332396, -115.80666344)   \n",
       "4  (47.6063889, -122.33083329999998)  (37.234332396, -115.80666344)   \n",
       "\n",
       "  coordinates_palo_verde_nuclear_generating_station  \\\n",
       "0                        (33.3916667, -112.8638889)   \n",
       "1                        (33.3916667, -112.8638889)   \n",
       "2                        (33.3916667, -112.8638889)   \n",
       "3                        (33.3916667, -112.8638889)   \n",
       "4                        (33.3916667, -112.8638889)   \n",
       "\n",
       "   distance_in _km_from_palo_verde_ngs  distance_in _km_from_a51  \n",
       "0                                  502                       416  \n",
       "1                                  372                       132  \n",
       "2                                   73                       540  \n",
       "3                                   73                       540  \n",
       "4                                 1768                      1270  "
      ]
     },
     "execution_count": 2,
     "metadata": {},
     "output_type": "execute_result"
    }
   ],
   "source": [
    "df=pd.read_csv('ufo.csv', encoding='latin1')\n",
    "\n",
    "df.head()"
   ]
  },
  {
   "cell_type": "code",
   "execution_count": 3,
   "metadata": {},
   "outputs": [
    {
     "data": {
      "text/plain": [
       "(2070, 10)"
      ]
     },
     "execution_count": 3,
     "metadata": {},
     "output_type": "execute_result"
    }
   ],
   "source": [
    "df.shape"
   ]
  },
  {
   "cell_type": "code",
   "execution_count": 4,
   "metadata": {},
   "outputs": [],
   "source": [
    "df['duration_in_secs']=df['duration_in_secs'].astype(int)"
   ]
  },
  {
   "cell_type": "code",
   "execution_count": 5,
   "metadata": {},
   "outputs": [
    {
     "data": {
      "text/html": [
       "<div>\n",
       "<style scoped>\n",
       "    .dataframe tbody tr th:only-of-type {\n",
       "        vertical-align: middle;\n",
       "    }\n",
       "\n",
       "    .dataframe tbody tr th {\n",
       "        vertical-align: top;\n",
       "    }\n",
       "\n",
       "    .dataframe thead th {\n",
       "        text-align: right;\n",
       "    }\n",
       "</style>\n",
       "<table border=\"1\" class=\"dataframe\">\n",
       "  <thead>\n",
       "    <tr style=\"text-align: right;\">\n",
       "      <th></th>\n",
       "      <th>datetime</th>\n",
       "      <th>duration_in_secs</th>\n",
       "      <th>country</th>\n",
       "      <th>city</th>\n",
       "      <th>shape</th>\n",
       "      <th>coordinates</th>\n",
       "      <th>coordinates_area_51</th>\n",
       "      <th>coordinates_palo_verde_nuclear_generating_station</th>\n",
       "      <th>distance_in _km_from_palo_verde_ngs</th>\n",
       "      <th>distance_in _km_from_a51</th>\n",
       "    </tr>\n",
       "  </thead>\n",
       "  <tbody>\n",
       "    <tr>\n",
       "      <th>0</th>\n",
       "      <td>2014-05-01 21:00:00</td>\n",
       "      <td>2700</td>\n",
       "      <td>us</td>\n",
       "      <td>los angeles</td>\n",
       "      <td>light</td>\n",
       "      <td>(34.0522222, -118.2427778)</td>\n",
       "      <td>(37.234332396, -115.80666344)</td>\n",
       "      <td>(33.3916667, -112.8638889)</td>\n",
       "      <td>502</td>\n",
       "      <td>416</td>\n",
       "    </tr>\n",
       "    <tr>\n",
       "      <th>1</th>\n",
       "      <td>2014-04-30 21:10:00</td>\n",
       "      <td>60</td>\n",
       "      <td>us</td>\n",
       "      <td>las vegas</td>\n",
       "      <td>light</td>\n",
       "      <td>(36.175, -115.1363889)</td>\n",
       "      <td>(37.234332396, -115.80666344)</td>\n",
       "      <td>(33.3916667, -112.8638889)</td>\n",
       "      <td>372</td>\n",
       "      <td>132</td>\n",
       "    </tr>\n",
       "    <tr>\n",
       "      <th>2</th>\n",
       "      <td>2014-04-24 20:00:00</td>\n",
       "      <td>240</td>\n",
       "      <td>us</td>\n",
       "      <td>phoenix</td>\n",
       "      <td>circle</td>\n",
       "      <td>(33.4483333, -112.07333329999999)</td>\n",
       "      <td>(37.234332396, -115.80666344)</td>\n",
       "      <td>(33.3916667, -112.8638889)</td>\n",
       "      <td>73</td>\n",
       "      <td>540</td>\n",
       "    </tr>\n",
       "    <tr>\n",
       "      <th>3</th>\n",
       "      <td>2014-04-23 20:30:00</td>\n",
       "      <td>300</td>\n",
       "      <td>us</td>\n",
       "      <td>phoenix</td>\n",
       "      <td>circle</td>\n",
       "      <td>(33.4483333, -112.07333329999999)</td>\n",
       "      <td>(37.234332396, -115.80666344)</td>\n",
       "      <td>(33.3916667, -112.8638889)</td>\n",
       "      <td>73</td>\n",
       "      <td>540</td>\n",
       "    </tr>\n",
       "    <tr>\n",
       "      <th>4</th>\n",
       "      <td>2014-04-20 22:50:00</td>\n",
       "      <td>5</td>\n",
       "      <td>us</td>\n",
       "      <td>seattle</td>\n",
       "      <td>formation</td>\n",
       "      <td>(47.6063889, -122.33083329999998)</td>\n",
       "      <td>(37.234332396, -115.80666344)</td>\n",
       "      <td>(33.3916667, -112.8638889)</td>\n",
       "      <td>1768</td>\n",
       "      <td>1270</td>\n",
       "    </tr>\n",
       "    <tr>\n",
       "      <th>...</th>\n",
       "      <td>...</td>\n",
       "      <td>...</td>\n",
       "      <td>...</td>\n",
       "      <td>...</td>\n",
       "      <td>...</td>\n",
       "      <td>...</td>\n",
       "      <td>...</td>\n",
       "      <td>...</td>\n",
       "      <td>...</td>\n",
       "      <td>...</td>\n",
       "    </tr>\n",
       "    <tr>\n",
       "      <th>2052</th>\n",
       "      <td>1954-07-01 22:00:00</td>\n",
       "      <td>15</td>\n",
       "      <td>us</td>\n",
       "      <td>los angeles</td>\n",
       "      <td>circle</td>\n",
       "      <td>(34.0522222, -118.2427778)</td>\n",
       "      <td>(37.234332396, -115.80666344)</td>\n",
       "      <td>(33.3916667, -112.8638889)</td>\n",
       "      <td>502</td>\n",
       "      <td>416</td>\n",
       "    </tr>\n",
       "    <tr>\n",
       "      <th>2053</th>\n",
       "      <td>1953-04-15 12:00:00</td>\n",
       "      <td>5</td>\n",
       "      <td>us</td>\n",
       "      <td>los angeles</td>\n",
       "      <td>fireball</td>\n",
       "      <td>(34.0522222, -118.2427778)</td>\n",
       "      <td>(37.234332396, -115.80666344)</td>\n",
       "      <td>(33.3916667, -112.8638889)</td>\n",
       "      <td>502</td>\n",
       "      <td>416</td>\n",
       "    </tr>\n",
       "    <tr>\n",
       "      <th>2054</th>\n",
       "      <td>1951-02-15 11:00:00</td>\n",
       "      <td>2700</td>\n",
       "      <td>us</td>\n",
       "      <td>los angeles</td>\n",
       "      <td>disk</td>\n",
       "      <td>(34.0522222, -118.2427778)</td>\n",
       "      <td>(37.234332396, -115.80666344)</td>\n",
       "      <td>(33.3916667, -112.8638889)</td>\n",
       "      <td>502</td>\n",
       "      <td>416</td>\n",
       "    </tr>\n",
       "    <tr>\n",
       "      <th>2055</th>\n",
       "      <td>1949-04-10 15:00:00</td>\n",
       "      <td>600</td>\n",
       "      <td>us</td>\n",
       "      <td>seattle</td>\n",
       "      <td>disk</td>\n",
       "      <td>(47.6063889, -122.33083329999998)</td>\n",
       "      <td>(37.234332396, -115.80666344)</td>\n",
       "      <td>(33.3916667, -112.8638889)</td>\n",
       "      <td>1768</td>\n",
       "      <td>1270</td>\n",
       "    </tr>\n",
       "    <tr>\n",
       "      <th>2056</th>\n",
       "      <td>1947-07-04 17:30:00</td>\n",
       "      <td>10</td>\n",
       "      <td>us</td>\n",
       "      <td>seattle</td>\n",
       "      <td>oval</td>\n",
       "      <td>(47.6063889, -122.33083329999998)</td>\n",
       "      <td>(37.234332396, -115.80666344)</td>\n",
       "      <td>(33.3916667, -112.8638889)</td>\n",
       "      <td>1768</td>\n",
       "      <td>1270</td>\n",
       "    </tr>\n",
       "  </tbody>\n",
       "</table>\n",
       "<p>2057 rows × 10 columns</p>\n",
       "</div>"
      ],
      "text/plain": [
       "                 datetime  duration_in_secs country         city      shape  \\\n",
       "0     2014-05-01 21:00:00              2700      us  los angeles      light   \n",
       "1     2014-04-30 21:10:00                60      us    las vegas      light   \n",
       "2     2014-04-24 20:00:00               240      us      phoenix     circle   \n",
       "3     2014-04-23 20:30:00               300      us      phoenix     circle   \n",
       "4     2014-04-20 22:50:00                 5      us      seattle  formation   \n",
       "...                   ...               ...     ...          ...        ...   \n",
       "2052  1954-07-01 22:00:00                15      us  los angeles     circle   \n",
       "2053  1953-04-15 12:00:00                 5      us  los angeles   fireball   \n",
       "2054  1951-02-15 11:00:00              2700      us  los angeles       disk   \n",
       "2055  1949-04-10 15:00:00               600      us      seattle       disk   \n",
       "2056  1947-07-04 17:30:00                10      us      seattle       oval   \n",
       "\n",
       "                            coordinates            coordinates_area_51  \\\n",
       "0            (34.0522222, -118.2427778)  (37.234332396, -115.80666344)   \n",
       "1                (36.175, -115.1363889)  (37.234332396, -115.80666344)   \n",
       "2     (33.4483333, -112.07333329999999)  (37.234332396, -115.80666344)   \n",
       "3     (33.4483333, -112.07333329999999)  (37.234332396, -115.80666344)   \n",
       "4     (47.6063889, -122.33083329999998)  (37.234332396, -115.80666344)   \n",
       "...                                 ...                            ...   \n",
       "2052         (34.0522222, -118.2427778)  (37.234332396, -115.80666344)   \n",
       "2053         (34.0522222, -118.2427778)  (37.234332396, -115.80666344)   \n",
       "2054         (34.0522222, -118.2427778)  (37.234332396, -115.80666344)   \n",
       "2055  (47.6063889, -122.33083329999998)  (37.234332396, -115.80666344)   \n",
       "2056  (47.6063889, -122.33083329999998)  (37.234332396, -115.80666344)   \n",
       "\n",
       "     coordinates_palo_verde_nuclear_generating_station  \\\n",
       "0                           (33.3916667, -112.8638889)   \n",
       "1                           (33.3916667, -112.8638889)   \n",
       "2                           (33.3916667, -112.8638889)   \n",
       "3                           (33.3916667, -112.8638889)   \n",
       "4                           (33.3916667, -112.8638889)   \n",
       "...                                                ...   \n",
       "2052                        (33.3916667, -112.8638889)   \n",
       "2053                        (33.3916667, -112.8638889)   \n",
       "2054                        (33.3916667, -112.8638889)   \n",
       "2055                        (33.3916667, -112.8638889)   \n",
       "2056                        (33.3916667, -112.8638889)   \n",
       "\n",
       "      distance_in _km_from_palo_verde_ngs  distance_in _km_from_a51  \n",
       "0                                     502                       416  \n",
       "1                                     372                       132  \n",
       "2                                      73                       540  \n",
       "3                                      73                       540  \n",
       "4                                    1768                      1270  \n",
       "...                                   ...                       ...  \n",
       "2052                                  502                       416  \n",
       "2053                                  502                       416  \n",
       "2054                                  502                       416  \n",
       "2055                                 1768                      1270  \n",
       "2056                                 1768                      1270  \n",
       "\n",
       "[2057 rows x 10 columns]"
      ]
     },
     "execution_count": 5,
     "metadata": {},
     "output_type": "execute_result"
    }
   ],
   "source": [
    "df.dropna(subset=['datetime'])"
   ]
  },
  {
   "cell_type": "code",
   "execution_count": 6,
   "metadata": {},
   "outputs": [
    {
     "name": "stdout",
     "output_type": "stream",
     "text": [
      "<class 'pandas.core.frame.DataFrame'>\n",
      "RangeIndex: 2070 entries, 0 to 2069\n",
      "Data columns (total 10 columns):\n",
      " #   Column                                             Non-Null Count  Dtype \n",
      "---  ------                                             --------------  ----- \n",
      " 0   datetime                                           2057 non-null   object\n",
      " 1   duration_in_secs                                   2070 non-null   int64 \n",
      " 2   country                                            2070 non-null   object\n",
      " 3   city                                               2070 non-null   object\n",
      " 4   shape                                              2070 non-null   object\n",
      " 5   coordinates                                        2070 non-null   object\n",
      " 6   coordinates_area_51                                2070 non-null   object\n",
      " 7   coordinates_palo_verde_nuclear_generating_station  2070 non-null   object\n",
      " 8   distance_in _km_from_palo_verde_ngs                2070 non-null   int64 \n",
      " 9   distance_in _km_from_a51                           2070 non-null   int64 \n",
      "dtypes: int64(3), object(7)\n",
      "memory usage: 161.8+ KB\n"
     ]
    }
   ],
   "source": [
    "df.info()"
   ]
  },
  {
   "cell_type": "markdown",
   "metadata": {},
   "source": [
    "### EDA dataset"
   ]
  },
  {
   "cell_type": "code",
   "execution_count": 7,
   "metadata": {},
   "outputs": [
    {
     "data": {
      "text/html": [
       "<div>\n",
       "<style scoped>\n",
       "    .dataframe tbody tr th:only-of-type {\n",
       "        vertical-align: middle;\n",
       "    }\n",
       "\n",
       "    .dataframe tbody tr th {\n",
       "        vertical-align: top;\n",
       "    }\n",
       "\n",
       "    .dataframe thead th {\n",
       "        text-align: right;\n",
       "    }\n",
       "</style>\n",
       "<table border=\"1\" class=\"dataframe\">\n",
       "  <thead>\n",
       "    <tr style=\"text-align: right;\">\n",
       "      <th></th>\n",
       "      <th>duration_in_secs</th>\n",
       "      <th>distance_in _km_from_palo_verde_ngs</th>\n",
       "      <th>distance_in _km_from_a51</th>\n",
       "    </tr>\n",
       "  </thead>\n",
       "  <tbody>\n",
       "    <tr>\n",
       "      <th>duration_in_secs</th>\n",
       "      <td>1.000000</td>\n",
       "      <td>-0.033502</td>\n",
       "      <td>-0.018791</td>\n",
       "    </tr>\n",
       "    <tr>\n",
       "      <th>distance_in _km_from_palo_verde_ngs</th>\n",
       "      <td>-0.033502</td>\n",
       "      <td>1.000000</td>\n",
       "      <td>0.899386</td>\n",
       "    </tr>\n",
       "    <tr>\n",
       "      <th>distance_in _km_from_a51</th>\n",
       "      <td>-0.018791</td>\n",
       "      <td>0.899386</td>\n",
       "      <td>1.000000</td>\n",
       "    </tr>\n",
       "  </tbody>\n",
       "</table>\n",
       "</div>"
      ],
      "text/plain": [
       "                                     duration_in_secs  \\\n",
       "duration_in_secs                             1.000000   \n",
       "distance_in _km_from_palo_verde_ngs         -0.033502   \n",
       "distance_in _km_from_a51                    -0.018791   \n",
       "\n",
       "                                     distance_in _km_from_palo_verde_ngs  \\\n",
       "duration_in_secs                                               -0.033502   \n",
       "distance_in _km_from_palo_verde_ngs                             1.000000   \n",
       "distance_in _km_from_a51                                        0.899386   \n",
       "\n",
       "                                     distance_in _km_from_a51  \n",
       "duration_in_secs                                    -0.018791  \n",
       "distance_in _km_from_palo_verde_ngs                  0.899386  \n",
       "distance_in _km_from_a51                             1.000000  "
      ]
     },
     "execution_count": 7,
     "metadata": {},
     "output_type": "execute_result"
    }
   ],
   "source": [
    "df.corr(method='pearson')"
   ]
  },
  {
   "cell_type": "code",
   "execution_count": 8,
   "metadata": {},
   "outputs": [
    {
     "data": {
      "text/html": [
       "<div>\n",
       "<style scoped>\n",
       "    .dataframe tbody tr th:only-of-type {\n",
       "        vertical-align: middle;\n",
       "    }\n",
       "\n",
       "    .dataframe tbody tr th {\n",
       "        vertical-align: top;\n",
       "    }\n",
       "\n",
       "    .dataframe thead th {\n",
       "        text-align: right;\n",
       "    }\n",
       "</style>\n",
       "<table border=\"1\" class=\"dataframe\">\n",
       "  <thead>\n",
       "    <tr style=\"text-align: right;\">\n",
       "      <th></th>\n",
       "      <th>duration_in_secs</th>\n",
       "      <th>distance_in _km_from_palo_verde_ngs</th>\n",
       "      <th>distance_in _km_from_a51</th>\n",
       "    </tr>\n",
       "  </thead>\n",
       "  <tbody>\n",
       "    <tr>\n",
       "      <th>count</th>\n",
       "      <td>2.070000e+03</td>\n",
       "      <td>2070.000000</td>\n",
       "      <td>2070.000000</td>\n",
       "    </tr>\n",
       "    <tr>\n",
       "      <th>mean</th>\n",
       "      <td>1.568906e+03</td>\n",
       "      <td>943.757971</td>\n",
       "      <td>783.645411</td>\n",
       "    </tr>\n",
       "    <tr>\n",
       "      <th>std</th>\n",
       "      <td>2.775172e+04</td>\n",
       "      <td>797.331978</td>\n",
       "      <td>592.357774</td>\n",
       "    </tr>\n",
       "    <tr>\n",
       "      <th>min</th>\n",
       "      <td>0.000000e+00</td>\n",
       "      <td>73.000000</td>\n",
       "      <td>132.000000</td>\n",
       "    </tr>\n",
       "    <tr>\n",
       "      <th>25%</th>\n",
       "      <td>3.000000e+01</td>\n",
       "      <td>372.000000</td>\n",
       "      <td>416.000000</td>\n",
       "    </tr>\n",
       "    <tr>\n",
       "      <th>50%</th>\n",
       "      <td>1.800000e+02</td>\n",
       "      <td>502.000000</td>\n",
       "      <td>540.000000</td>\n",
       "    </tr>\n",
       "    <tr>\n",
       "      <th>75%</th>\n",
       "      <td>6.000000e+02</td>\n",
       "      <td>1768.000000</td>\n",
       "      <td>1270.000000</td>\n",
       "    </tr>\n",
       "    <tr>\n",
       "      <th>max</th>\n",
       "      <td>1.209600e+06</td>\n",
       "      <td>3831.000000</td>\n",
       "      <td>3870.000000</td>\n",
       "    </tr>\n",
       "  </tbody>\n",
       "</table>\n",
       "</div>"
      ],
      "text/plain": [
       "       duration_in_secs  distance_in _km_from_palo_verde_ngs  \\\n",
       "count      2.070000e+03                          2070.000000   \n",
       "mean       1.568906e+03                           943.757971   \n",
       "std        2.775172e+04                           797.331978   \n",
       "min        0.000000e+00                            73.000000   \n",
       "25%        3.000000e+01                           372.000000   \n",
       "50%        1.800000e+02                           502.000000   \n",
       "75%        6.000000e+02                          1768.000000   \n",
       "max        1.209600e+06                          3831.000000   \n",
       "\n",
       "       distance_in _km_from_a51  \n",
       "count               2070.000000  \n",
       "mean                 783.645411  \n",
       "std                  592.357774  \n",
       "min                  132.000000  \n",
       "25%                  416.000000  \n",
       "50%                  540.000000  \n",
       "75%                 1270.000000  \n",
       "max                 3870.000000  "
      ]
     },
     "execution_count": 8,
     "metadata": {},
     "output_type": "execute_result"
    }
   ],
   "source": [
    "df.describe()"
   ]
  },
  {
   "cell_type": "code",
   "execution_count": 9,
   "metadata": {},
   "outputs": [],
   "source": [
    "import pylab as plt"
   ]
  },
  {
   "cell_type": "code",
   "execution_count": 10,
   "metadata": {},
   "outputs": [],
   "source": [
    "import seaborn as sns"
   ]
  },
  {
   "cell_type": "code",
   "execution_count": 11,
   "metadata": {},
   "outputs": [],
   "source": [
    "plt.rcParams['figure.figsize']=(15,8)"
   ]
  },
  {
   "cell_type": "code",
   "execution_count": 12,
   "metadata": {},
   "outputs": [
    {
     "data": {
      "text/plain": [
       "<AxesSubplot:xlabel='distance_in _km_from_a51', ylabel='count'>"
      ]
     },
     "execution_count": 12,
     "metadata": {},
     "output_type": "execute_result"
    },
    {
     "data": {
      "image/png": "[encoded data removed]",
      "text/plain": [
       "<Figure size 1080x576 with 1 Axes>"
      ]
     },
     "metadata": {
      "needs_background": "light"
     },
     "output_type": "display_data"
    }
   ],
   "source": [
    "sns.countplot(x=df['distance_in _km_from_a51'])"
   ]
  },
  {
   "cell_type": "markdown",
   "metadata": {},
   "source": [
    "Podemos observar que hay un gran número de casos que tienen lugar entre 100-500 km "
   ]
  },
  {
   "cell_type": "code",
   "execution_count": 13,
   "metadata": {},
   "outputs": [
    {
     "data": {
      "text/plain": [
       "<AxesSubplot:xlabel='distance_in _km_from_palo_verde_ngs', ylabel='count'>"
      ]
     },
     "execution_count": 13,
     "metadata": {},
     "output_type": "execute_result"
    },
    {
     "data": {
      "image/png": "[encoded data removed]",
      "text/plain": [
       "<Figure size 1080x576 with 1 Axes>"
      ]
     },
     "metadata": {
      "needs_background": "light"
     },
     "output_type": "display_data"
    }
   ],
   "source": [
    "sns.countplot(x=df['distance_in _km_from_palo_verde_ngs'])"
   ]
  },
  {
   "cell_type": "markdown",
   "metadata": {},
   "source": [
    "Podemos observar, que la mayoría de avistamientos está relativamente cerca de ambas coordenadas"
   ]
  },
  {
   "cell_type": "code",
   "execution_count": 14,
   "metadata": {},
   "outputs": [
    {
     "data": {
      "image/png": "[encoded data removed]",
      "text/plain": [
       "<Figure size 1080x576 with 1 Axes>"
      ]
     },
     "metadata": {
      "needs_background": "light"
     },
     "output_type": "display_data"
    }
   ],
   "source": [
    "sns.countplot(x=df.duration_in_secs, color='b');"
   ]
  },
  {
   "cell_type": "code",
   "execution_count": 15,
   "metadata": {},
   "outputs": [
    {
     "data": {
      "text/plain": [
       "<AxesSubplot:>"
      ]
     },
     "execution_count": 15,
     "metadata": {},
     "output_type": "execute_result"
    },
    {
     "data": {
      "image/png": "[encoded data removed]",
      "text/plain": [
       "<Figure size 1080x576 with 1 Axes>"
      ]
     },
     "metadata": {
      "needs_background": "light"
     },
     "output_type": "display_data"
    }
   ],
   "source": [
    "sns.violinplot(data=df['distance_in _km_from_palo_verde_ngs'])"
   ]
  },
  {
   "cell_type": "code",
   "execution_count": 16,
   "metadata": {},
   "outputs": [
    {
     "data": {
      "text/plain": [
       "<AxesSubplot:>"
      ]
     },
     "execution_count": 16,
     "metadata": {},
     "output_type": "execute_result"
    },
    {
     "data": {
      "image/png": "[encoded data removed]",
      "text/plain": [
       "<Figure size 1080x576 with 1 Axes>"
      ]
     },
     "metadata": {
      "needs_background": "light"
     },
     "output_type": "display_data"
    }
   ],
   "source": [
    "sns.violinplot(data=df['distance_in _km_from_a51'])"
   ]
  },
  {
   "cell_type": "code",
   "execution_count": 17,
   "metadata": {},
   "outputs": [
    {
     "data": {
      "image/png": "[encoded data removed]",
      "text/plain": [
       "<Figure size 1080x576 with 1 Axes>"
      ]
     },
     "metadata": {
      "needs_background": "light"
     },
     "output_type": "display_data"
    }
   ],
   "source": [
    "sns.boxplot(x=df.duration_in_secs, color='y');"
   ]
  },
  {
   "cell_type": "code",
   "execution_count": 18,
   "metadata": {},
   "outputs": [
    {
     "data": {
      "image/png": "[encoded data removed]",
      "text/plain": [
       "<Figure size 1080x576 with 1 Axes>"
      ]
     },
     "metadata": {
      "needs_background": "light"
     },
     "output_type": "display_data"
    }
   ],
   "source": [
    "sns.boxplot(x=df['distance_in _km_from_a51'], color='y');"
   ]
  },
  {
   "cell_type": "code",
   "execution_count": 19,
   "metadata": {},
   "outputs": [
    {
     "data": {
      "image/png": "[encoded data removed]",
      "text/plain": [
       "<Figure size 1080x576 with 1 Axes>"
      ]
     },
     "metadata": {
      "needs_background": "light"
     },
     "output_type": "display_data"
    }
   ],
   "source": [
    "sns.boxplot(x=df['distance_in _km_from_palo_verde_ngs'], color='y');"
   ]
  },
  {
   "cell_type": "code",
   "execution_count": 20,
   "metadata": {},
   "outputs": [
    {
     "data": {
      "text/html": [
       "<div>\n",
       "<style scoped>\n",
       "    .dataframe tbody tr th:only-of-type {\n",
       "        vertical-align: middle;\n",
       "    }\n",
       "\n",
       "    .dataframe tbody tr th {\n",
       "        vertical-align: top;\n",
       "    }\n",
       "\n",
       "    .dataframe thead th {\n",
       "        text-align: right;\n",
       "    }\n",
       "</style>\n",
       "<table border=\"1\" class=\"dataframe\">\n",
       "  <thead>\n",
       "    <tr style=\"text-align: right;\">\n",
       "      <th></th>\n",
       "      <th>count</th>\n",
       "      <th>mean</th>\n",
       "      <th>std</th>\n",
       "      <th>min</th>\n",
       "      <th>25%</th>\n",
       "      <th>50%</th>\n",
       "      <th>75%</th>\n",
       "      <th>max</th>\n",
       "      <th>IQR</th>\n",
       "      <th>IQR1.5</th>\n",
       "    </tr>\n",
       "  </thead>\n",
       "  <tbody>\n",
       "    <tr>\n",
       "      <th>duration_in_secs</th>\n",
       "      <td>2070.0</td>\n",
       "      <td>1568.906280</td>\n",
       "      <td>27751.720522</td>\n",
       "      <td>0.0</td>\n",
       "      <td>30.0</td>\n",
       "      <td>180.0</td>\n",
       "      <td>600.0</td>\n",
       "      <td>1209600.0</td>\n",
       "      <td>570.0</td>\n",
       "      <td>1455.0</td>\n",
       "    </tr>\n",
       "    <tr>\n",
       "      <th>distance_in _km_from_palo_verde_ngs</th>\n",
       "      <td>2070.0</td>\n",
       "      <td>943.757971</td>\n",
       "      <td>797.331978</td>\n",
       "      <td>73.0</td>\n",
       "      <td>372.0</td>\n",
       "      <td>502.0</td>\n",
       "      <td>1768.0</td>\n",
       "      <td>3831.0</td>\n",
       "      <td>1396.0</td>\n",
       "      <td>3862.0</td>\n",
       "    </tr>\n",
       "    <tr>\n",
       "      <th>distance_in _km_from_a51</th>\n",
       "      <td>2070.0</td>\n",
       "      <td>783.645411</td>\n",
       "      <td>592.357774</td>\n",
       "      <td>132.0</td>\n",
       "      <td>416.0</td>\n",
       "      <td>540.0</td>\n",
       "      <td>1270.0</td>\n",
       "      <td>3870.0</td>\n",
       "      <td>854.0</td>\n",
       "      <td>2551.0</td>\n",
       "    </tr>\n",
       "  </tbody>\n",
       "</table>\n",
       "</div>"
      ],
      "text/plain": [
       "                                      count         mean           std    min  \\\n",
       "duration_in_secs                     2070.0  1568.906280  27751.720522    0.0   \n",
       "distance_in _km_from_palo_verde_ngs  2070.0   943.757971    797.331978   73.0   \n",
       "distance_in _km_from_a51             2070.0   783.645411    592.357774  132.0   \n",
       "\n",
       "                                       25%    50%     75%        max     IQR  \\\n",
       "duration_in_secs                      30.0  180.0   600.0  1209600.0   570.0   \n",
       "distance_in _km_from_palo_verde_ngs  372.0  502.0  1768.0     3831.0  1396.0   \n",
       "distance_in _km_from_a51             416.0  540.0  1270.0     3870.0   854.0   \n",
       "\n",
       "                                     IQR1.5  \n",
       "duration_in_secs                     1455.0  \n",
       "distance_in _km_from_palo_verde_ngs  3862.0  \n",
       "distance_in _km_from_a51             2551.0  "
      ]
     },
     "execution_count": 20,
     "metadata": {},
     "output_type": "execute_result"
    }
   ],
   "source": [
    "stats=df.describe().T\n",
    "\n",
    "stats['IQR']=stats['75%']-stats['25%']\n",
    "\n",
    "stats['IQR1.5']=1.5*stats['IQR']+stats['75%']\n",
    "\n",
    "stats"
   ]
  },
  {
   "cell_type": "code",
   "execution_count": 21,
   "metadata": {},
   "outputs": [
    {
     "data": {
      "text/plain": [
       "<AxesSubplot:>"
      ]
     },
     "execution_count": 21,
     "metadata": {},
     "output_type": "execute_result"
    },
    {
     "data": {
      "image/png": "[encoded data removed]",
      "text/plain": [
       "<Figure size 1080x576 with 1 Axes>"
      ]
     },
     "metadata": {
      "needs_background": "light"
     },
     "output_type": "display_data"
    }
   ],
   "source": [
    "df.boxplot()"
   ]
  },
  {
   "cell_type": "code",
   "execution_count": 22,
   "metadata": {},
   "outputs": [
    {
     "data": {
      "text/plain": [
       "Index(['datetime', 'duration_in_secs', 'country', 'city', 'shape',\n",
       "       'coordinates', 'coordinates_area_51',\n",
       "       'coordinates_palo_verde_nuclear_generating_station',\n",
       "       'distance_in _km_from_palo_verde_ngs', 'distance_in _km_from_a51'],\n",
       "      dtype='object')"
      ]
     },
     "execution_count": 22,
     "metadata": {},
     "output_type": "execute_result"
    }
   ],
   "source": [
    "df.columns"
   ]
  },
  {
   "cell_type": "code",
   "execution_count": 23,
   "metadata": {},
   "outputs": [],
   "source": [
    "df['distance_in_km_from_palo_verde_ngs']= df['distance_in _km_from_palo_verde_ngs']"
   ]
  },
  {
   "cell_type": "code",
   "execution_count": 24,
   "metadata": {},
   "outputs": [],
   "source": [
    "df['distance_in_km_from_a51']= df['distance_in _km_from_a51']"
   ]
  },
  {
   "cell_type": "code",
   "execution_count": 25,
   "metadata": {},
   "outputs": [],
   "source": [
    "df=df.drop('distance_in _km_from_palo_verde_ngs',axis=1)"
   ]
  },
  {
   "cell_type": "code",
   "execution_count": 26,
   "metadata": {},
   "outputs": [],
   "source": [
    "df=df.drop('distance_in _km_from_a51',axis=1)"
   ]
  },
  {
   "cell_type": "code",
   "execution_count": 27,
   "metadata": {},
   "outputs": [
    {
     "data": {
      "text/html": [
       "<div>\n",
       "<style scoped>\n",
       "    .dataframe tbody tr th:only-of-type {\n",
       "        vertical-align: middle;\n",
       "    }\n",
       "\n",
       "    .dataframe tbody tr th {\n",
       "        vertical-align: top;\n",
       "    }\n",
       "\n",
       "    .dataframe thead th {\n",
       "        text-align: right;\n",
       "    }\n",
       "</style>\n",
       "<table border=\"1\" class=\"dataframe\">\n",
       "  <thead>\n",
       "    <tr style=\"text-align: right;\">\n",
       "      <th></th>\n",
       "      <th>datetime</th>\n",
       "      <th>duration_in_secs</th>\n",
       "      <th>country</th>\n",
       "      <th>city</th>\n",
       "      <th>shape</th>\n",
       "      <th>coordinates</th>\n",
       "      <th>coordinates_area_51</th>\n",
       "      <th>coordinates_palo_verde_nuclear_generating_station</th>\n",
       "      <th>distance_in_km_from_palo_verde_ngs</th>\n",
       "      <th>distance_in_km_from_a51</th>\n",
       "    </tr>\n",
       "  </thead>\n",
       "  <tbody>\n",
       "    <tr>\n",
       "      <th>0</th>\n",
       "      <td>2014-05-01 21:00:00</td>\n",
       "      <td>2700</td>\n",
       "      <td>us</td>\n",
       "      <td>los angeles</td>\n",
       "      <td>light</td>\n",
       "      <td>(34.0522222, -118.2427778)</td>\n",
       "      <td>(37.234332396, -115.80666344)</td>\n",
       "      <td>(33.3916667, -112.8638889)</td>\n",
       "      <td>502</td>\n",
       "      <td>416</td>\n",
       "    </tr>\n",
       "    <tr>\n",
       "      <th>1</th>\n",
       "      <td>2014-04-30 21:10:00</td>\n",
       "      <td>60</td>\n",
       "      <td>us</td>\n",
       "      <td>las vegas</td>\n",
       "      <td>light</td>\n",
       "      <td>(36.175, -115.1363889)</td>\n",
       "      <td>(37.234332396, -115.80666344)</td>\n",
       "      <td>(33.3916667, -112.8638889)</td>\n",
       "      <td>372</td>\n",
       "      <td>132</td>\n",
       "    </tr>\n",
       "    <tr>\n",
       "      <th>2</th>\n",
       "      <td>2014-04-24 20:00:00</td>\n",
       "      <td>240</td>\n",
       "      <td>us</td>\n",
       "      <td>phoenix</td>\n",
       "      <td>circle</td>\n",
       "      <td>(33.4483333, -112.07333329999999)</td>\n",
       "      <td>(37.234332396, -115.80666344)</td>\n",
       "      <td>(33.3916667, -112.8638889)</td>\n",
       "      <td>73</td>\n",
       "      <td>540</td>\n",
       "    </tr>\n",
       "    <tr>\n",
       "      <th>3</th>\n",
       "      <td>2014-04-23 20:30:00</td>\n",
       "      <td>300</td>\n",
       "      <td>us</td>\n",
       "      <td>phoenix</td>\n",
       "      <td>circle</td>\n",
       "      <td>(33.4483333, -112.07333329999999)</td>\n",
       "      <td>(37.234332396, -115.80666344)</td>\n",
       "      <td>(33.3916667, -112.8638889)</td>\n",
       "      <td>73</td>\n",
       "      <td>540</td>\n",
       "    </tr>\n",
       "    <tr>\n",
       "      <th>4</th>\n",
       "      <td>2014-04-20 22:50:00</td>\n",
       "      <td>5</td>\n",
       "      <td>us</td>\n",
       "      <td>seattle</td>\n",
       "      <td>formation</td>\n",
       "      <td>(47.6063889, -122.33083329999998)</td>\n",
       "      <td>(37.234332396, -115.80666344)</td>\n",
       "      <td>(33.3916667, -112.8638889)</td>\n",
       "      <td>1768</td>\n",
       "      <td>1270</td>\n",
       "    </tr>\n",
       "  </tbody>\n",
       "</table>\n",
       "</div>"
      ],
      "text/plain": [
       "              datetime  duration_in_secs country         city      shape  \\\n",
       "0  2014-05-01 21:00:00              2700      us  los angeles      light   \n",
       "1  2014-04-30 21:10:00                60      us    las vegas      light   \n",
       "2  2014-04-24 20:00:00               240      us      phoenix     circle   \n",
       "3  2014-04-23 20:30:00               300      us      phoenix     circle   \n",
       "4  2014-04-20 22:50:00                 5      us      seattle  formation   \n",
       "\n",
       "                         coordinates            coordinates_area_51  \\\n",
       "0         (34.0522222, -118.2427778)  (37.234332396, -115.80666344)   \n",
       "1             (36.175, -115.1363889)  (37.234332396, -115.80666344)   \n",
       "2  (33.4483333, -112.07333329999999)  (37.234332396, -115.80666344)   \n",
       "3  (33.4483333, -112.07333329999999)  (37.234332396, -115.80666344)   \n",
       "4  (47.6063889, -122.33083329999998)  (37.234332396, -115.80666344)   \n",
       "\n",
       "  coordinates_palo_verde_nuclear_generating_station  \\\n",
       "0                        (33.3916667, -112.8638889)   \n",
       "1                        (33.3916667, -112.8638889)   \n",
       "2                        (33.3916667, -112.8638889)   \n",
       "3                        (33.3916667, -112.8638889)   \n",
       "4                        (33.3916667, -112.8638889)   \n",
       "\n",
       "   distance_in_km_from_palo_verde_ngs  distance_in_km_from_a51  \n",
       "0                                 502                      416  \n",
       "1                                 372                      132  \n",
       "2                                  73                      540  \n",
       "3                                  73                      540  \n",
       "4                                1768                     1270  "
      ]
     },
     "execution_count": 27,
     "metadata": {},
     "output_type": "execute_result"
    }
   ],
   "source": [
    "df.head()"
   ]
  },
  {
   "cell_type": "code",
   "execution_count": 66,
   "metadata": {},
   "outputs": [],
   "source": [
    "nan_cols = df.isna().sum()"
   ]
  },
  {
   "cell_type": "code",
   "execution_count": 67,
   "metadata": {},
   "outputs": [
    {
     "data": {
      "text/plain": [
       "Series([], dtype: int64)"
      ]
     },
     "execution_count": 67,
     "metadata": {},
     "output_type": "execute_result"
    }
   ],
   "source": [
    "nan_cols[nan_cols>0]"
   ]
  },
  {
   "cell_type": "code",
   "execution_count": 68,
   "metadata": {},
   "outputs": [],
   "source": [
    "df.datetime= df.datetime.fillna(0)"
   ]
  },
  {
   "cell_type": "code",
   "execution_count": 69,
   "metadata": {},
   "outputs": [
    {
     "data": {
      "text/plain": [
       "datetime                                             0\n",
       "duration_in_secs                                     0\n",
       "country                                              0\n",
       "city                                                 0\n",
       "shape                                                0\n",
       "coordinates                                          0\n",
       "coordinates_area_51                                  0\n",
       "coordinates_palo_verde_nuclear_generating_station    0\n",
       "distance_in_km_from_palo_verde_ngs                   0\n",
       "distance_in_km_from_a51                              0\n",
       "dtype: int64"
      ]
     },
     "execution_count": 69,
     "metadata": {},
     "output_type": "execute_result"
    }
   ],
   "source": [
    "nan_cols"
   ]
  },
  {
   "cell_type": "code",
   "execution_count": 28,
   "metadata": {},
   "outputs": [],
   "source": [
    "import mysql.connector as conn"
   ]
  },
  {
   "cell_type": "code",
   "execution_count": 29,
   "metadata": {},
   "outputs": [],
   "source": [
    "crea_db=conn.connect(host='localhost', user='root', passwd='xx')"
   ]
  },
  {
   "cell_type": "code",
   "execution_count": 30,
   "metadata": {},
   "outputs": [],
   "source": [
    "cursor=crea_db.cursor()"
   ]
  },
  {
   "cell_type": "code",
   "execution_count": 31,
   "metadata": {},
   "outputs": [],
   "source": [
    "def crear_db(nombre, user='root', password='xx', check=True):\n",
    "    \n",
    "    crea_db=conn.connect(host='localhost', user=user, passwd=password)\n",
    "\n",
    "    cursor=crea_db.cursor()\n",
    "\n",
    "    cursor.execute(f'drop database if exists {nombre}')\n",
    "    cursor.execute(f'create database {nombre}')\n",
    "    \n",
    "    print('Hecho, base de datos creada. ;)')\n",
    "    \n",
    "    if check:\n",
    "        cursor.execute('show databases')\n",
    "        for x in cursor:\n",
    "            print(x)"
   ]
  },
  {
   "cell_type": "code",
   "execution_count": 32,
   "metadata": {},
   "outputs": [],
   "source": [
    "def crear_tabla_desde_df(df, nombre_tabla, nombre_db, user='root', password='xx', check=True, drop=False):\n",
    "    \n",
    "    db=conn.connect(host='localhost', user=user, passwd=password, database=nombre_db)\n",
    "    cursor=db.cursor()\n",
    "    \n",
    "    if drop:\n",
    "        cursor.execute(f'drop table if exists {nombre_tabla}')\n",
    "    \n",
    "    tabla=f\"create table {nombre_tabla}(id int, {' varchar(200),'.join(df.columns)} varchar(200));\"\n",
    "    print(tabla)\n",
    "    \n",
    "    cursor.execute(tabla)\n",
    "    \n",
    "    print(f'Hecho, tabla {nombre_tabla} creada. ;)')\n",
    "    \n",
    "    if check:\n",
    "        cursor.execute('show tables')\n",
    "        for x in cursor:\n",
    "            print(x)"
   ]
  },
  {
   "cell_type": "code",
   "execution_count": 33,
   "metadata": {},
   "outputs": [],
   "source": [
    "def insertar_datos(df, nombre_tabla, nombre_db, user='root', password='xx', check=True):\n",
    "    \n",
    "    db=conn.connect(host='localhost', user=user, passwd=password, database=nombre_db)\n",
    "    cursor=db.cursor()\n",
    "    \n",
    "    for i in range(len(df)):\n",
    "    \n",
    "        insert_query='insert into {} (id, {}) values {};'\\\n",
    "                     .format(nombre_tabla, ','.join(df.columns), tuple(np.insert(df.iloc[i].values, 0, i)))\n",
    "\n",
    "        cursor.execute(insert_query)\n",
    "\n",
    "    db.commit()\n",
    "    \n",
    "    print(f'Hecho, datos dentro de tabla {nombre_tabla}. ;)')\n",
    "    print()\n",
    "    print(insert_query)"
   ]
  },
  {
   "cell_type": "code",
   "execution_count": 34,
   "metadata": {},
   "outputs": [],
   "source": [
    "def leer_sql(query, nombre_tabla, nombre_db, user='root', password='xx'):\n",
    "    \n",
    "    db=conn.connect(host='localhost', user=user, passwd=password, database=nombre_db)\n",
    "    \n",
    "    data=pd.read_sql(query, db)\n",
    "    \n",
    "    return data"
   ]
  },
  {
   "cell_type": "code",
   "execution_count": 35,
   "metadata": {},
   "outputs": [
    {
     "name": "stdout",
     "output_type": "stream",
     "text": [
      "Hecho, base de datos creada. ;)\n",
      "('information_schema',)\n",
      "('mydb',)\n",
      "('mysql',)\n",
      "('performance_schema',)\n",
      "('proyectosharks',)\n",
      "('publication',)\n",
      "('sakila',)\n",
      "('sharks',)\n",
      "('sys',)\n",
      "('ufos',)\n",
      "('world',)\n"
     ]
    }
   ],
   "source": [
    "crear_db('ufos')"
   ]
  },
  {
   "cell_type": "code",
   "execution_count": 36,
   "metadata": {},
   "outputs": [],
   "source": [
    "db=conn.connect(host='localhost', user='root', passwd='xx', database='ufos')\n",
    "\n",
    "cursor=db.cursor()"
   ]
  },
  {
   "cell_type": "code",
   "execution_count": 37,
   "metadata": {},
   "outputs": [
    {
     "data": {
      "text/plain": [
       "Index(['datetime', 'duration_in_secs', 'country', 'city', 'shape',\n",
       "       'coordinates', 'coordinates_area_51',\n",
       "       'coordinates_palo_verde_nuclear_generating_station',\n",
       "       'distance_in_km_from_palo_verde_ngs', 'distance_in_km_from_a51'],\n",
       "      dtype='object')"
      ]
     },
     "execution_count": 37,
     "metadata": {},
     "output_type": "execute_result"
    }
   ],
   "source": [
    "df.columns"
   ]
  },
  {
   "cell_type": "code",
   "execution_count": 38,
   "metadata": {},
   "outputs": [
    {
     "name": "stdout",
     "output_type": "stream",
     "text": [
      "<class 'pandas.core.frame.DataFrame'>\n",
      "RangeIndex: 2070 entries, 0 to 2069\n",
      "Data columns (total 10 columns):\n",
      " #   Column                                             Non-Null Count  Dtype \n",
      "---  ------                                             --------------  ----- \n",
      " 0   datetime                                           2057 non-null   object\n",
      " 1   duration_in_secs                                   2070 non-null   int64 \n",
      " 2   country                                            2070 non-null   object\n",
      " 3   city                                               2070 non-null   object\n",
      " 4   shape                                              2070 non-null   object\n",
      " 5   coordinates                                        2070 non-null   object\n",
      " 6   coordinates_area_51                                2070 non-null   object\n",
      " 7   coordinates_palo_verde_nuclear_generating_station  2070 non-null   object\n",
      " 8   distance_in_km_from_palo_verde_ngs                 2070 non-null   int64 \n",
      " 9   distance_in_km_from_a51                            2070 non-null   int64 \n",
      "dtypes: int64(3), object(7)\n",
      "memory usage: 161.8+ KB\n"
     ]
    }
   ],
   "source": [
    "df.info()"
   ]
  },
  {
   "cell_type": "code",
   "execution_count": 39,
   "metadata": {},
   "outputs": [],
   "source": [
    "cursor.execute('drop table if exists ufo_sighting')   # borra la tabla si existe\n",
    "\n",
    "\n",
    "\n",
    "tabla='''\n",
    "        create table ufo_sighting(\n",
    "            \n",
    "            id int,\n",
    "            datetime varchar(1000),\n",
    "            duration_in_secs int,\n",
    "            country varchar(500),\n",
    "            city varchar(500),\n",
    "            shape varchar(500),\n",
    "            coordinates varchar(500),\n",
    "            coordinates_area_51 varchar(500),\n",
    "            coordinates_palo_verde_nuclear_generating_station varchar(500),\n",
    "            distance_in_km_from_palo_verde_ngs int,\n",
    "            distance_in_km_from_a51 int\n",
    "            \n",
    "             \n",
    "\n",
    "        );\n",
    "'''\n",
    "\n",
    "\n",
    "cursor.execute(tabla)"
   ]
  },
  {
   "cell_type": "code",
   "execution_count": 40,
   "metadata": {},
   "outputs": [
    {
     "name": "stdout",
     "output_type": "stream",
     "text": [
      "('ufo_sighting',)\n"
     ]
    }
   ],
   "source": [
    "cursor.execute('show tables')\n",
    "for x in cursor:\n",
    "    print(x)"
   ]
  },
  {
   "cell_type": "code",
   "execution_count": 70,
   "metadata": {},
   "outputs": [],
   "source": [
    "for i in range(len(df)):\n",
    "    \n",
    "    \n",
    "    insert_query='insert into {} ({}) values {};'\\\n",
    "                    .format('ufo_sighting', ','.join(df.columns), tuple(df.iloc[i].values))\n",
    "    \n",
    "    cursor.execute(insert_query)\n",
    "    \n",
    "db.commit()"
   ]
  },
  {
   "cell_type": "code",
   "execution_count": 71,
   "metadata": {},
   "outputs": [
    {
     "data": {
      "text/html": [
       "<div>\n",
       "<style scoped>\n",
       "    .dataframe tbody tr th:only-of-type {\n",
       "        vertical-align: middle;\n",
       "    }\n",
       "\n",
       "    .dataframe tbody tr th {\n",
       "        vertical-align: top;\n",
       "    }\n",
       "\n",
       "    .dataframe thead th {\n",
       "        text-align: right;\n",
       "    }\n",
       "</style>\n",
       "<table border=\"1\" class=\"dataframe\">\n",
       "  <thead>\n",
       "    <tr style=\"text-align: right;\">\n",
       "      <th></th>\n",
       "      <th>id</th>\n",
       "      <th>datetime</th>\n",
       "      <th>duration_in_secs</th>\n",
       "      <th>country</th>\n",
       "      <th>city</th>\n",
       "      <th>shape</th>\n",
       "      <th>coordinates</th>\n",
       "      <th>coordinates_area_51</th>\n",
       "      <th>coordinates_palo_verde_nuclear_generating_station</th>\n",
       "      <th>distance_in_km_from_palo_verde_ngs</th>\n",
       "      <th>distance_in_km_from_a51</th>\n",
       "    </tr>\n",
       "  </thead>\n",
       "  <tbody>\n",
       "    <tr>\n",
       "      <th>0</th>\n",
       "      <td>None</td>\n",
       "      <td>2014-05-01 21:00:00</td>\n",
       "      <td>2700</td>\n",
       "      <td>us</td>\n",
       "      <td>los angeles</td>\n",
       "      <td>light</td>\n",
       "      <td>(34.0522222, -118.2427778)</td>\n",
       "      <td>(37.234332396, -115.80666344)</td>\n",
       "      <td>(33.3916667, -112.8638889)</td>\n",
       "      <td>502</td>\n",
       "      <td>416</td>\n",
       "    </tr>\n",
       "    <tr>\n",
       "      <th>1</th>\n",
       "      <td>None</td>\n",
       "      <td>2014-04-30 21:10:00</td>\n",
       "      <td>60</td>\n",
       "      <td>us</td>\n",
       "      <td>las vegas</td>\n",
       "      <td>light</td>\n",
       "      <td>(36.175, -115.1363889)</td>\n",
       "      <td>(37.234332396, -115.80666344)</td>\n",
       "      <td>(33.3916667, -112.8638889)</td>\n",
       "      <td>372</td>\n",
       "      <td>132</td>\n",
       "    </tr>\n",
       "    <tr>\n",
       "      <th>2</th>\n",
       "      <td>None</td>\n",
       "      <td>2014-04-24 20:00:00</td>\n",
       "      <td>240</td>\n",
       "      <td>us</td>\n",
       "      <td>phoenix</td>\n",
       "      <td>circle</td>\n",
       "      <td>(33.4483333, -112.07333329999999)</td>\n",
       "      <td>(37.234332396, -115.80666344)</td>\n",
       "      <td>(33.3916667, -112.8638889)</td>\n",
       "      <td>73</td>\n",
       "      <td>540</td>\n",
       "    </tr>\n",
       "  </tbody>\n",
       "</table>\n",
       "</div>"
      ],
      "text/plain": [
       "     id             datetime  duration_in_secs country         city   shape  \\\n",
       "0  None  2014-05-01 21:00:00              2700      us  los angeles   light   \n",
       "1  None  2014-04-30 21:10:00                60      us    las vegas   light   \n",
       "2  None  2014-04-24 20:00:00               240      us      phoenix  circle   \n",
       "\n",
       "                         coordinates            coordinates_area_51  \\\n",
       "0         (34.0522222, -118.2427778)  (37.234332396, -115.80666344)   \n",
       "1             (36.175, -115.1363889)  (37.234332396, -115.80666344)   \n",
       "2  (33.4483333, -112.07333329999999)  (37.234332396, -115.80666344)   \n",
       "\n",
       "  coordinates_palo_verde_nuclear_generating_station  \\\n",
       "0                        (33.3916667, -112.8638889)   \n",
       "1                        (33.3916667, -112.8638889)   \n",
       "2                        (33.3916667, -112.8638889)   \n",
       "\n",
       "   distance_in_km_from_palo_verde_ngs  distance_in_km_from_a51  \n",
       "0                                 502                      416  \n",
       "1                                 372                      132  \n",
       "2                                  73                      540  "
      ]
     },
     "execution_count": 71,
     "metadata": {},
     "output_type": "execute_result"
    }
   ],
   "source": [
    "leer_sql('select * from ufo_sighting limit 3', 'kepler', 'ufos')"
   ]
  },
  {
   "cell_type": "code",
   "execution_count": null,
   "metadata": {},
   "outputs": [],
   "source": []
  }
 ],
 "metadata": {
  "kernelspec": {
   "display_name": "Python 3",
   "language": "python",
   "name": "python3"
  },
  "language_info": {
   "codemirror_mode": {
    "name": "ipython",
    "version": 3
   },
   "file_extension": ".py",
   "mimetype": "text/x-python",
   "name": "python",
   "nbconvert_exporter": "python",
   "pygments_lexer": "ipython3",
   "version": "3.8.5"
  }
 },
 "nbformat": 4,
 "nbformat_minor": 4
}
