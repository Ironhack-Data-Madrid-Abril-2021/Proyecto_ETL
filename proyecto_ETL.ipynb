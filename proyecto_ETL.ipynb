{
 "cells": [
  {
   "cell_type": "code",
   "execution_count": 1,
   "metadata": {},
   "outputs": [],
   "source": [
    "import pandas as pd\n",
    "import pandas as pd\n",
    "import numpy as np\n",
    "\n",
    "\n",
    "pd.set_option('display.max_columns', None)\n",
    "\n",
    "import warnings\n",
    "warnings.simplefilter('ignore')"
   ]
  },
  {
   "cell_type": "code",
   "execution_count": 2,
   "metadata": {},
   "outputs": [],
   "source": [
    "df=pd.read_csv('scrubbed.csv')"
   ]
  },
  {
   "cell_type": "code",
   "execution_count": 3,
   "metadata": {},
   "outputs": [],
   "source": [
    "new_cols=[c.strip() for c in df.columns]\n",
    "df=df.rename(columns={k:v for k,v in zip(df.columns, new_cols)})"
   ]
  },
  {
   "cell_type": "code",
   "execution_count": 4,
   "metadata": {},
   "outputs": [
    {
     "data": {
      "text/plain": [
       "us    65114\n",
       "ca     3000\n",
       "gb     1905\n",
       "au      538\n",
       "de      105\n",
       "Name: country, dtype: int64"
      ]
     },
     "execution_count": 4,
     "metadata": {},
     "output_type": "execute_result"
    }
   ],
   "source": [
    "df.country.value_counts()"
   ]
  },
  {
   "cell_type": "code",
   "execution_count": 5,
   "metadata": {},
   "outputs": [
    {
     "data": {
      "text/plain": [
       "0"
      ]
     },
     "execution_count": 5,
     "metadata": {},
     "output_type": "execute_result"
    }
   ],
   "source": [
    "df.duplicated().sum()  "
   ]
  },
  {
   "cell_type": "code",
   "execution_count": 6,
   "metadata": {},
   "outputs": [],
   "source": [
    "df2 = df.dropna(axis=0,how='all') "
   ]
  },
  {
   "cell_type": "code",
   "execution_count": 7,
   "metadata": {},
   "outputs": [
    {
     "data": {
      "text/plain": [
       "(80332, 11)"
      ]
     },
     "execution_count": 7,
     "metadata": {},
     "output_type": "execute_result"
    }
   ],
   "source": [
    "df2.shape"
   ]
  },
  {
   "cell_type": "code",
   "execution_count": 8,
   "metadata": {},
   "outputs": [],
   "source": [
    "df2= df2.dropna(thresh = 3)"
   ]
  },
  {
   "cell_type": "code",
   "execution_count": 9,
   "metadata": {},
   "outputs": [
    {
     "data": {
      "text/plain": [
       "(80332, 11)"
      ]
     },
     "execution_count": 9,
     "metadata": {},
     "output_type": "execute_result"
    }
   ],
   "source": [
    "df2.shape"
   ]
  },
  {
   "cell_type": "code",
   "execution_count": 10,
   "metadata": {},
   "outputs": [
    {
     "data": {
      "text/plain": [
       "light        16565\n",
       "triangle      7865\n",
       "circle        7608\n",
       "fireball      6208\n",
       "other         5649\n",
       "unknown       5584\n",
       "sphere        5387\n",
       "disk          5213\n",
       "oval          3733\n",
       "formation     2457\n",
       "cigar         2057\n",
       "changing      1962\n",
       "flash         1328\n",
       "rectangle     1297\n",
       "cylinder      1283\n",
       "diamond       1178\n",
       "chevron        952\n",
       "egg            759\n",
       "teardrop       750\n",
       "cone           316\n",
       "cross          233\n",
       "delta            7\n",
       "round            2\n",
       "crescent         2\n",
       "hexagon          1\n",
       "changed          1\n",
       "flare            1\n",
       "dome             1\n",
       "pyramid          1\n",
       "Name: shape, dtype: int64"
      ]
     },
     "execution_count": 10,
     "metadata": {},
     "output_type": "execute_result"
    }
   ],
   "source": [
    "df2['shape'].value_counts()"
   ]
  },
  {
   "cell_type": "code",
   "execution_count": 11,
   "metadata": {},
   "outputs": [],
   "source": [
    "df2.state=df2.state.dropna()"
   ]
  },
  {
   "cell_type": "code",
   "execution_count": 12,
   "metadata": {},
   "outputs": [
    {
     "data": {
      "text/html": [
       "<div>\n",
       "<style scoped>\n",
       "    .dataframe tbody tr th:only-of-type {\n",
       "        vertical-align: middle;\n",
       "    }\n",
       "\n",
       "    .dataframe tbody tr th {\n",
       "        vertical-align: top;\n",
       "    }\n",
       "\n",
       "    .dataframe thead th {\n",
       "        text-align: right;\n",
       "    }\n",
       "</style>\n",
       "<table border=\"1\" class=\"dataframe\">\n",
       "  <thead>\n",
       "    <tr style=\"text-align: right;\">\n",
       "      <th></th>\n",
       "      <th>datetime</th>\n",
       "      <th>city</th>\n",
       "      <th>state</th>\n",
       "      <th>country</th>\n",
       "      <th>shape</th>\n",
       "      <th>duration (seconds)</th>\n",
       "      <th>duration (hours/min)</th>\n",
       "      <th>comments</th>\n",
       "      <th>date posted</th>\n",
       "      <th>latitude</th>\n",
       "      <th>longitude</th>\n",
       "    </tr>\n",
       "  </thead>\n",
       "  <tbody>\n",
       "    <tr>\n",
       "      <th>0</th>\n",
       "      <td>10/10/1949 20:30</td>\n",
       "      <td>san marcos</td>\n",
       "      <td>tx</td>\n",
       "      <td>us</td>\n",
       "      <td>cylinder</td>\n",
       "      <td>2700</td>\n",
       "      <td>45 minutes</td>\n",
       "      <td>This event took place in early fall around 194...</td>\n",
       "      <td>4/27/2004</td>\n",
       "      <td>29.8830556</td>\n",
       "      <td>-97.941111</td>\n",
       "    </tr>\n",
       "    <tr>\n",
       "      <th>1</th>\n",
       "      <td>10/10/1949 21:00</td>\n",
       "      <td>lackland afb</td>\n",
       "      <td>tx</td>\n",
       "      <td>NaN</td>\n",
       "      <td>light</td>\n",
       "      <td>7200</td>\n",
       "      <td>1-2 hrs</td>\n",
       "      <td>1949 Lackland AFB&amp;#44 TX.  Lights racing acros...</td>\n",
       "      <td>12/16/2005</td>\n",
       "      <td>29.38421</td>\n",
       "      <td>-98.581082</td>\n",
       "    </tr>\n",
       "    <tr>\n",
       "      <th>2</th>\n",
       "      <td>10/10/1955 17:00</td>\n",
       "      <td>chester (uk/england)</td>\n",
       "      <td>NaN</td>\n",
       "      <td>gb</td>\n",
       "      <td>circle</td>\n",
       "      <td>20</td>\n",
       "      <td>20 seconds</td>\n",
       "      <td>Green/Orange circular disc over Chester&amp;#44 En...</td>\n",
       "      <td>1/21/2008</td>\n",
       "      <td>53.2</td>\n",
       "      <td>-2.916667</td>\n",
       "    </tr>\n",
       "    <tr>\n",
       "      <th>3</th>\n",
       "      <td>10/10/1956 21:00</td>\n",
       "      <td>edna</td>\n",
       "      <td>tx</td>\n",
       "      <td>us</td>\n",
       "      <td>circle</td>\n",
       "      <td>20</td>\n",
       "      <td>1/2 hour</td>\n",
       "      <td>My older brother and twin sister were leaving ...</td>\n",
       "      <td>1/17/2004</td>\n",
       "      <td>28.9783333</td>\n",
       "      <td>-96.645833</td>\n",
       "    </tr>\n",
       "    <tr>\n",
       "      <th>4</th>\n",
       "      <td>10/10/1960 20:00</td>\n",
       "      <td>kaneohe</td>\n",
       "      <td>hi</td>\n",
       "      <td>us</td>\n",
       "      <td>light</td>\n",
       "      <td>900</td>\n",
       "      <td>15 minutes</td>\n",
       "      <td>AS a Marine 1st Lt. flying an FJ4B fighter/att...</td>\n",
       "      <td>1/22/2004</td>\n",
       "      <td>21.4180556</td>\n",
       "      <td>-157.803611</td>\n",
       "    </tr>\n",
       "  </tbody>\n",
       "</table>\n",
       "</div>"
      ],
      "text/plain": [
       "           datetime                  city state country     shape  \\\n",
       "0  10/10/1949 20:30            san marcos    tx      us  cylinder   \n",
       "1  10/10/1949 21:00          lackland afb    tx     NaN     light   \n",
       "2  10/10/1955 17:00  chester (uk/england)   NaN      gb    circle   \n",
       "3  10/10/1956 21:00                  edna    tx      us    circle   \n",
       "4  10/10/1960 20:00               kaneohe    hi      us     light   \n",
       "\n",
       "  duration (seconds) duration (hours/min)  \\\n",
       "0               2700           45 minutes   \n",
       "1               7200              1-2 hrs   \n",
       "2                 20           20 seconds   \n",
       "3                 20             1/2 hour   \n",
       "4                900           15 minutes   \n",
       "\n",
       "                                            comments date posted    latitude  \\\n",
       "0  This event took place in early fall around 194...   4/27/2004  29.8830556   \n",
       "1  1949 Lackland AFB&#44 TX.  Lights racing acros...  12/16/2005    29.38421   \n",
       "2  Green/Orange circular disc over Chester&#44 En...   1/21/2008        53.2   \n",
       "3  My older brother and twin sister were leaving ...   1/17/2004  28.9783333   \n",
       "4  AS a Marine 1st Lt. flying an FJ4B fighter/att...   1/22/2004  21.4180556   \n",
       "\n",
       "    longitude  \n",
       "0  -97.941111  \n",
       "1  -98.581082  \n",
       "2   -2.916667  \n",
       "3  -96.645833  \n",
       "4 -157.803611  "
      ]
     },
     "execution_count": 12,
     "metadata": {},
     "output_type": "execute_result"
    }
   ],
   "source": [
    "df2.head()"
   ]
  },
  {
   "cell_type": "code",
   "execution_count": 13,
   "metadata": {},
   "outputs": [],
   "source": [
    "df2=df2.drop('state', axis=1)"
   ]
  },
  {
   "cell_type": "code",
   "execution_count": 14,
   "metadata": {},
   "outputs": [],
   "source": [
    "df2=df2.drop('duration (hours/min)',axis=1)"
   ]
  },
  {
   "cell_type": "code",
   "execution_count": 15,
   "metadata": {},
   "outputs": [
    {
     "data": {
      "text/plain": [
       "0             us\n",
       "1        unknown\n",
       "2             gb\n",
       "3             us\n",
       "4             us\n",
       "          ...   \n",
       "80327         us\n",
       "80328         us\n",
       "80329         us\n",
       "80330         us\n",
       "80331         us\n",
       "Name: country, Length: 80332, dtype: object"
      ]
     },
     "execution_count": 15,
     "metadata": {},
     "output_type": "execute_result"
    }
   ],
   "source": [
    "df2.country.fillna('unknown')"
   ]
  },
  {
   "cell_type": "code",
   "execution_count": 16,
   "metadata": {},
   "outputs": [
    {
     "data": {
      "text/plain": [
       "us    65114\n",
       "ca     3000\n",
       "gb     1905\n",
       "au      538\n",
       "de      105\n",
       "Name: country, dtype: int64"
      ]
     },
     "execution_count": 16,
     "metadata": {},
     "output_type": "execute_result"
    }
   ],
   "source": [
    "df2.country.value_counts()"
   ]
  },
  {
   "cell_type": "code",
   "execution_count": 17,
   "metadata": {},
   "outputs": [
    {
     "data": {
      "text/html": [
       "<div>\n",
       "<style scoped>\n",
       "    .dataframe tbody tr th:only-of-type {\n",
       "        vertical-align: middle;\n",
       "    }\n",
       "\n",
       "    .dataframe tbody tr th {\n",
       "        vertical-align: top;\n",
       "    }\n",
       "\n",
       "    .dataframe thead th {\n",
       "        text-align: right;\n",
       "    }\n",
       "</style>\n",
       "<table border=\"1\" class=\"dataframe\">\n",
       "  <thead>\n",
       "    <tr style=\"text-align: right;\">\n",
       "      <th></th>\n",
       "      <th>datetime</th>\n",
       "      <th>city</th>\n",
       "      <th>country</th>\n",
       "      <th>shape</th>\n",
       "      <th>duration (seconds)</th>\n",
       "      <th>comments</th>\n",
       "      <th>date posted</th>\n",
       "      <th>latitude</th>\n",
       "      <th>longitude</th>\n",
       "    </tr>\n",
       "  </thead>\n",
       "  <tbody>\n",
       "    <tr>\n",
       "      <th>0</th>\n",
       "      <td>10/10/1949 20:30</td>\n",
       "      <td>san marcos</td>\n",
       "      <td>us</td>\n",
       "      <td>cylinder</td>\n",
       "      <td>2700</td>\n",
       "      <td>This event took place in early fall around 194...</td>\n",
       "      <td>4/27/2004</td>\n",
       "      <td>29.8830556</td>\n",
       "      <td>-97.941111</td>\n",
       "    </tr>\n",
       "    <tr>\n",
       "      <th>1</th>\n",
       "      <td>10/10/1949 21:00</td>\n",
       "      <td>lackland afb</td>\n",
       "      <td>NaN</td>\n",
       "      <td>light</td>\n",
       "      <td>7200</td>\n",
       "      <td>1949 Lackland AFB&amp;#44 TX.  Lights racing acros...</td>\n",
       "      <td>12/16/2005</td>\n",
       "      <td>29.38421</td>\n",
       "      <td>-98.581082</td>\n",
       "    </tr>\n",
       "    <tr>\n",
       "      <th>2</th>\n",
       "      <td>10/10/1955 17:00</td>\n",
       "      <td>chester (uk/england)</td>\n",
       "      <td>gb</td>\n",
       "      <td>circle</td>\n",
       "      <td>20</td>\n",
       "      <td>Green/Orange circular disc over Chester&amp;#44 En...</td>\n",
       "      <td>1/21/2008</td>\n",
       "      <td>53.2</td>\n",
       "      <td>-2.916667</td>\n",
       "    </tr>\n",
       "    <tr>\n",
       "      <th>3</th>\n",
       "      <td>10/10/1956 21:00</td>\n",
       "      <td>edna</td>\n",
       "      <td>us</td>\n",
       "      <td>circle</td>\n",
       "      <td>20</td>\n",
       "      <td>My older brother and twin sister were leaving ...</td>\n",
       "      <td>1/17/2004</td>\n",
       "      <td>28.9783333</td>\n",
       "      <td>-96.645833</td>\n",
       "    </tr>\n",
       "    <tr>\n",
       "      <th>4</th>\n",
       "      <td>10/10/1960 20:00</td>\n",
       "      <td>kaneohe</td>\n",
       "      <td>us</td>\n",
       "      <td>light</td>\n",
       "      <td>900</td>\n",
       "      <td>AS a Marine 1st Lt. flying an FJ4B fighter/att...</td>\n",
       "      <td>1/22/2004</td>\n",
       "      <td>21.4180556</td>\n",
       "      <td>-157.803611</td>\n",
       "    </tr>\n",
       "  </tbody>\n",
       "</table>\n",
       "</div>"
      ],
      "text/plain": [
       "           datetime                  city country     shape  \\\n",
       "0  10/10/1949 20:30            san marcos      us  cylinder   \n",
       "1  10/10/1949 21:00          lackland afb     NaN     light   \n",
       "2  10/10/1955 17:00  chester (uk/england)      gb    circle   \n",
       "3  10/10/1956 21:00                  edna      us    circle   \n",
       "4  10/10/1960 20:00               kaneohe      us     light   \n",
       "\n",
       "  duration (seconds)                                           comments  \\\n",
       "0               2700  This event took place in early fall around 194...   \n",
       "1               7200  1949 Lackland AFB&#44 TX.  Lights racing acros...   \n",
       "2                 20  Green/Orange circular disc over Chester&#44 En...   \n",
       "3                 20  My older brother and twin sister were leaving ...   \n",
       "4                900  AS a Marine 1st Lt. flying an FJ4B fighter/att...   \n",
       "\n",
       "  date posted    latitude   longitude  \n",
       "0   4/27/2004  29.8830556  -97.941111  \n",
       "1  12/16/2005    29.38421  -98.581082  \n",
       "2   1/21/2008        53.2   -2.916667  \n",
       "3   1/17/2004  28.9783333  -96.645833  \n",
       "4   1/22/2004  21.4180556 -157.803611  "
      ]
     },
     "execution_count": 17,
     "metadata": {},
     "output_type": "execute_result"
    }
   ],
   "source": [
    "df2.head()"
   ]
  },
  {
   "cell_type": "code",
   "execution_count": 18,
   "metadata": {},
   "outputs": [
    {
     "data": {
      "text/plain": [
       "(80332, 9)"
      ]
     },
     "execution_count": 18,
     "metadata": {},
     "output_type": "execute_result"
    }
   ],
   "source": [
    "df2.shape"
   ]
  },
  {
   "cell_type": "code",
   "execution_count": 19,
   "metadata": {},
   "outputs": [],
   "source": [
    "df2=df2.drop('comments',axis=1)"
   ]
  },
  {
   "cell_type": "code",
   "execution_count": 20,
   "metadata": {},
   "outputs": [],
   "source": [
    "df2=df2.drop('date posted',axis=1)"
   ]
  },
  {
   "cell_type": "code",
   "execution_count": 21,
   "metadata": {},
   "outputs": [],
   "source": [
    "df2[\"coordinates\"] = df[\"latitude\"].map(str) + \",\" + df[\"longitude\"].map(str)\n"
   ]
  },
  {
   "cell_type": "code",
   "execution_count": 22,
   "metadata": {},
   "outputs": [
    {
     "data": {
      "text/html": [
       "<div>\n",
       "<style scoped>\n",
       "    .dataframe tbody tr th:only-of-type {\n",
       "        vertical-align: middle;\n",
       "    }\n",
       "\n",
       "    .dataframe tbody tr th {\n",
       "        vertical-align: top;\n",
       "    }\n",
       "\n",
       "    .dataframe thead th {\n",
       "        text-align: right;\n",
       "    }\n",
       "</style>\n",
       "<table border=\"1\" class=\"dataframe\">\n",
       "  <thead>\n",
       "    <tr style=\"text-align: right;\">\n",
       "      <th></th>\n",
       "      <th>datetime</th>\n",
       "      <th>city</th>\n",
       "      <th>country</th>\n",
       "      <th>shape</th>\n",
       "      <th>duration (seconds)</th>\n",
       "      <th>latitude</th>\n",
       "      <th>longitude</th>\n",
       "      <th>coordinates</th>\n",
       "    </tr>\n",
       "  </thead>\n",
       "  <tbody>\n",
       "    <tr>\n",
       "      <th>0</th>\n",
       "      <td>10/10/1949 20:30</td>\n",
       "      <td>san marcos</td>\n",
       "      <td>us</td>\n",
       "      <td>cylinder</td>\n",
       "      <td>2700</td>\n",
       "      <td>29.8830556</td>\n",
       "      <td>-97.941111</td>\n",
       "      <td>29.8830556,-97.94111109999999</td>\n",
       "    </tr>\n",
       "    <tr>\n",
       "      <th>1</th>\n",
       "      <td>10/10/1949 21:00</td>\n",
       "      <td>lackland afb</td>\n",
       "      <td>NaN</td>\n",
       "      <td>light</td>\n",
       "      <td>7200</td>\n",
       "      <td>29.38421</td>\n",
       "      <td>-98.581082</td>\n",
       "      <td>29.38421,-98.581082</td>\n",
       "    </tr>\n",
       "    <tr>\n",
       "      <th>2</th>\n",
       "      <td>10/10/1955 17:00</td>\n",
       "      <td>chester (uk/england)</td>\n",
       "      <td>gb</td>\n",
       "      <td>circle</td>\n",
       "      <td>20</td>\n",
       "      <td>53.2</td>\n",
       "      <td>-2.916667</td>\n",
       "      <td>53.2,-2.916667</td>\n",
       "    </tr>\n",
       "    <tr>\n",
       "      <th>3</th>\n",
       "      <td>10/10/1956 21:00</td>\n",
       "      <td>edna</td>\n",
       "      <td>us</td>\n",
       "      <td>circle</td>\n",
       "      <td>20</td>\n",
       "      <td>28.9783333</td>\n",
       "      <td>-96.645833</td>\n",
       "      <td>28.9783333,-96.64583329999999</td>\n",
       "    </tr>\n",
       "    <tr>\n",
       "      <th>4</th>\n",
       "      <td>10/10/1960 20:00</td>\n",
       "      <td>kaneohe</td>\n",
       "      <td>us</td>\n",
       "      <td>light</td>\n",
       "      <td>900</td>\n",
       "      <td>21.4180556</td>\n",
       "      <td>-157.803611</td>\n",
       "      <td>21.4180556,-157.8036111</td>\n",
       "    </tr>\n",
       "  </tbody>\n",
       "</table>\n",
       "</div>"
      ],
      "text/plain": [
       "           datetime                  city country     shape  \\\n",
       "0  10/10/1949 20:30            san marcos      us  cylinder   \n",
       "1  10/10/1949 21:00          lackland afb     NaN     light   \n",
       "2  10/10/1955 17:00  chester (uk/england)      gb    circle   \n",
       "3  10/10/1956 21:00                  edna      us    circle   \n",
       "4  10/10/1960 20:00               kaneohe      us     light   \n",
       "\n",
       "  duration (seconds)    latitude   longitude                    coordinates  \n",
       "0               2700  29.8830556  -97.941111  29.8830556,-97.94111109999999  \n",
       "1               7200    29.38421  -98.581082            29.38421,-98.581082  \n",
       "2                 20        53.2   -2.916667                 53.2,-2.916667  \n",
       "3                 20  28.9783333  -96.645833  28.9783333,-96.64583329999999  \n",
       "4                900  21.4180556 -157.803611        21.4180556,-157.8036111  "
      ]
     },
     "execution_count": 22,
     "metadata": {},
     "output_type": "execute_result"
    }
   ],
   "source": [
    "df2.head()"
   ]
  },
  {
   "cell_type": "code",
   "execution_count": 23,
   "metadata": {},
   "outputs": [],
   "source": [
    "df2['duration_in_secs']=df2['duration (seconds)']"
   ]
  },
  {
   "cell_type": "code",
   "execution_count": 24,
   "metadata": {},
   "outputs": [
    {
     "data": {
      "text/html": [
       "<div>\n",
       "<style scoped>\n",
       "    .dataframe tbody tr th:only-of-type {\n",
       "        vertical-align: middle;\n",
       "    }\n",
       "\n",
       "    .dataframe tbody tr th {\n",
       "        vertical-align: top;\n",
       "    }\n",
       "\n",
       "    .dataframe thead th {\n",
       "        text-align: right;\n",
       "    }\n",
       "</style>\n",
       "<table border=\"1\" class=\"dataframe\">\n",
       "  <thead>\n",
       "    <tr style=\"text-align: right;\">\n",
       "      <th></th>\n",
       "      <th>datetime</th>\n",
       "      <th>city</th>\n",
       "      <th>country</th>\n",
       "      <th>shape</th>\n",
       "      <th>duration (seconds)</th>\n",
       "      <th>latitude</th>\n",
       "      <th>longitude</th>\n",
       "      <th>coordinates</th>\n",
       "      <th>duration_in_secs</th>\n",
       "    </tr>\n",
       "  </thead>\n",
       "  <tbody>\n",
       "    <tr>\n",
       "      <th>0</th>\n",
       "      <td>10/10/1949 20:30</td>\n",
       "      <td>san marcos</td>\n",
       "      <td>us</td>\n",
       "      <td>cylinder</td>\n",
       "      <td>2700</td>\n",
       "      <td>29.8830556</td>\n",
       "      <td>-97.941111</td>\n",
       "      <td>29.8830556,-97.94111109999999</td>\n",
       "      <td>2700</td>\n",
       "    </tr>\n",
       "    <tr>\n",
       "      <th>1</th>\n",
       "      <td>10/10/1949 21:00</td>\n",
       "      <td>lackland afb</td>\n",
       "      <td>NaN</td>\n",
       "      <td>light</td>\n",
       "      <td>7200</td>\n",
       "      <td>29.38421</td>\n",
       "      <td>-98.581082</td>\n",
       "      <td>29.38421,-98.581082</td>\n",
       "      <td>7200</td>\n",
       "    </tr>\n",
       "    <tr>\n",
       "      <th>2</th>\n",
       "      <td>10/10/1955 17:00</td>\n",
       "      <td>chester (uk/england)</td>\n",
       "      <td>gb</td>\n",
       "      <td>circle</td>\n",
       "      <td>20</td>\n",
       "      <td>53.2</td>\n",
       "      <td>-2.916667</td>\n",
       "      <td>53.2,-2.916667</td>\n",
       "      <td>20</td>\n",
       "    </tr>\n",
       "    <tr>\n",
       "      <th>3</th>\n",
       "      <td>10/10/1956 21:00</td>\n",
       "      <td>edna</td>\n",
       "      <td>us</td>\n",
       "      <td>circle</td>\n",
       "      <td>20</td>\n",
       "      <td>28.9783333</td>\n",
       "      <td>-96.645833</td>\n",
       "      <td>28.9783333,-96.64583329999999</td>\n",
       "      <td>20</td>\n",
       "    </tr>\n",
       "    <tr>\n",
       "      <th>4</th>\n",
       "      <td>10/10/1960 20:00</td>\n",
       "      <td>kaneohe</td>\n",
       "      <td>us</td>\n",
       "      <td>light</td>\n",
       "      <td>900</td>\n",
       "      <td>21.4180556</td>\n",
       "      <td>-157.803611</td>\n",
       "      <td>21.4180556,-157.8036111</td>\n",
       "      <td>900</td>\n",
       "    </tr>\n",
       "  </tbody>\n",
       "</table>\n",
       "</div>"
      ],
      "text/plain": [
       "           datetime                  city country     shape  \\\n",
       "0  10/10/1949 20:30            san marcos      us  cylinder   \n",
       "1  10/10/1949 21:00          lackland afb     NaN     light   \n",
       "2  10/10/1955 17:00  chester (uk/england)      gb    circle   \n",
       "3  10/10/1956 21:00                  edna      us    circle   \n",
       "4  10/10/1960 20:00               kaneohe      us     light   \n",
       "\n",
       "  duration (seconds)    latitude   longitude                    coordinates  \\\n",
       "0               2700  29.8830556  -97.941111  29.8830556,-97.94111109999999   \n",
       "1               7200    29.38421  -98.581082            29.38421,-98.581082   \n",
       "2                 20        53.2   -2.916667                 53.2,-2.916667   \n",
       "3                 20  28.9783333  -96.645833  28.9783333,-96.64583329999999   \n",
       "4                900  21.4180556 -157.803611        21.4180556,-157.8036111   \n",
       "\n",
       "  duration_in_secs  \n",
       "0             2700  \n",
       "1             7200  \n",
       "2               20  \n",
       "3               20  \n",
       "4              900  "
      ]
     },
     "execution_count": 24,
     "metadata": {},
     "output_type": "execute_result"
    }
   ],
   "source": [
    "df2.head()"
   ]
  },
  {
   "cell_type": "code",
   "execution_count": 65,
   "metadata": {},
   "outputs": [],
   "source": [
    "'''from math import radians, cos, sin, asin, sqrt\n",
    "\n",
    "def haversine(lon1, lat1, lon2, lat2):\n",
    "    \"\"\"\n",
    "    Calcula distancia entre dos puntos en la Tierra\n",
    "    lon1: float, longitud del primer punto\n",
    "    lat1: float, latitud del primer punto\n",
    "    lon2: float, longitud del segundo punto\n",
    "    lat2: float, latitud del segundo punto\n",
    "    \"\"\"\n",
    "    # convertir grados a radianes \n",
    "    lon1, lat1, lon2, lat2 = map(radians, [lon1, lat1, lon2, lat2])\n",
    "\n",
    "    # formula haversine  \n",
    "    dlon = lon2 - lon1 \n",
    "    dlat = lat2 - lat1 \n",
    "    a = sin(dlat/2)**2 + cos(lat1) * cos(lat2) * sin(dlon/2)**2\n",
    "    c = 2 * asin(sqrt(a)) \n",
    "    r = 6371 # radio Tierra\n",
    "    return c * r'''"
   ]
  },
  {
   "cell_type": "code",
   "execution_count": 25,
   "metadata": {},
   "outputs": [],
   "source": [
    "nan_cols = df2.isna().sum()"
   ]
  },
  {
   "cell_type": "code",
   "execution_count": 26,
   "metadata": {},
   "outputs": [
    {
     "data": {
      "text/plain": [
       "country    9670\n",
       "shape      1932\n",
       "dtype: int64"
      ]
     },
     "execution_count": 26,
     "metadata": {},
     "output_type": "execute_result"
    }
   ],
   "source": [
    "nan_cols[nan_cols>0]"
   ]
  },
  {
   "cell_type": "code",
   "execution_count": 27,
   "metadata": {},
   "outputs": [],
   "source": [
    "df2['country']=df2['country'].fillna('unknown')"
   ]
  },
  {
   "cell_type": "code",
   "execution_count": 28,
   "metadata": {},
   "outputs": [],
   "source": [
    "df2['shape']=df2['shape'].fillna('other')"
   ]
  },
  {
   "cell_type": "code",
   "execution_count": 29,
   "metadata": {
    "scrolled": true
   },
   "outputs": [],
   "source": [
    "df2=df2.drop('duration (seconds)',axis=1)"
   ]
  },
  {
   "cell_type": "code",
   "execution_count": 30,
   "metadata": {},
   "outputs": [],
   "source": [
    "df2.drop(df2[df2['country'] !=\"us\"].index, inplace = True)"
   ]
  },
  {
   "cell_type": "code",
   "execution_count": 31,
   "metadata": {},
   "outputs": [
    {
     "data": {
      "text/html": [
       "<div>\n",
       "<style scoped>\n",
       "    .dataframe tbody tr th:only-of-type {\n",
       "        vertical-align: middle;\n",
       "    }\n",
       "\n",
       "    .dataframe tbody tr th {\n",
       "        vertical-align: top;\n",
       "    }\n",
       "\n",
       "    .dataframe thead th {\n",
       "        text-align: right;\n",
       "    }\n",
       "</style>\n",
       "<table border=\"1\" class=\"dataframe\">\n",
       "  <thead>\n",
       "    <tr style=\"text-align: right;\">\n",
       "      <th></th>\n",
       "      <th>datetime</th>\n",
       "      <th>city</th>\n",
       "      <th>country</th>\n",
       "      <th>shape</th>\n",
       "      <th>latitude</th>\n",
       "      <th>longitude</th>\n",
       "      <th>coordinates</th>\n",
       "      <th>duration_in_secs</th>\n",
       "    </tr>\n",
       "  </thead>\n",
       "  <tbody>\n",
       "    <tr>\n",
       "      <th>0</th>\n",
       "      <td>10/10/1949 20:30</td>\n",
       "      <td>san marcos</td>\n",
       "      <td>us</td>\n",
       "      <td>cylinder</td>\n",
       "      <td>29.8830556</td>\n",
       "      <td>-97.941111</td>\n",
       "      <td>29.8830556,-97.94111109999999</td>\n",
       "      <td>2700</td>\n",
       "    </tr>\n",
       "    <tr>\n",
       "      <th>3</th>\n",
       "      <td>10/10/1956 21:00</td>\n",
       "      <td>edna</td>\n",
       "      <td>us</td>\n",
       "      <td>circle</td>\n",
       "      <td>28.9783333</td>\n",
       "      <td>-96.645833</td>\n",
       "      <td>28.9783333,-96.64583329999999</td>\n",
       "      <td>20</td>\n",
       "    </tr>\n",
       "    <tr>\n",
       "      <th>4</th>\n",
       "      <td>10/10/1960 20:00</td>\n",
       "      <td>kaneohe</td>\n",
       "      <td>us</td>\n",
       "      <td>light</td>\n",
       "      <td>21.4180556</td>\n",
       "      <td>-157.803611</td>\n",
       "      <td>21.4180556,-157.8036111</td>\n",
       "      <td>900</td>\n",
       "    </tr>\n",
       "    <tr>\n",
       "      <th>5</th>\n",
       "      <td>10/10/1961 19:00</td>\n",
       "      <td>bristol</td>\n",
       "      <td>us</td>\n",
       "      <td>sphere</td>\n",
       "      <td>36.5950000</td>\n",
       "      <td>-82.188889</td>\n",
       "      <td>36.5950000,-82.18888890000001</td>\n",
       "      <td>300</td>\n",
       "    </tr>\n",
       "    <tr>\n",
       "      <th>7</th>\n",
       "      <td>10/10/1965 23:45</td>\n",
       "      <td>norwalk</td>\n",
       "      <td>us</td>\n",
       "      <td>disk</td>\n",
       "      <td>41.1175000</td>\n",
       "      <td>-73.408333</td>\n",
       "      <td>41.1175000,-73.4083333</td>\n",
       "      <td>1200</td>\n",
       "    </tr>\n",
       "  </tbody>\n",
       "</table>\n",
       "</div>"
      ],
      "text/plain": [
       "           datetime        city country     shape    latitude   longitude  \\\n",
       "0  10/10/1949 20:30  san marcos      us  cylinder  29.8830556  -97.941111   \n",
       "3  10/10/1956 21:00        edna      us    circle  28.9783333  -96.645833   \n",
       "4  10/10/1960 20:00     kaneohe      us     light  21.4180556 -157.803611   \n",
       "5  10/10/1961 19:00     bristol      us    sphere  36.5950000  -82.188889   \n",
       "7  10/10/1965 23:45     norwalk      us      disk  41.1175000  -73.408333   \n",
       "\n",
       "                     coordinates duration_in_secs  \n",
       "0  29.8830556,-97.94111109999999             2700  \n",
       "3  28.9783333,-96.64583329999999               20  \n",
       "4        21.4180556,-157.8036111              900  \n",
       "5  36.5950000,-82.18888890000001              300  \n",
       "7         41.1175000,-73.4083333             1200  "
      ]
     },
     "execution_count": 31,
     "metadata": {},
     "output_type": "execute_result"
    }
   ],
   "source": [
    "df2.head()"
   ]
  },
  {
   "cell_type": "code",
   "execution_count": 32,
   "metadata": {},
   "outputs": [],
   "source": [
    "df3 = df2[['datetime','duration_in_secs','country','city','shape','coordinates']]"
   ]
  },
  {
   "cell_type": "code",
   "execution_count": 33,
   "metadata": {},
   "outputs": [
    {
     "data": {
      "text/html": [
       "<div>\n",
       "<style scoped>\n",
       "    .dataframe tbody tr th:only-of-type {\n",
       "        vertical-align: middle;\n",
       "    }\n",
       "\n",
       "    .dataframe tbody tr th {\n",
       "        vertical-align: top;\n",
       "    }\n",
       "\n",
       "    .dataframe thead th {\n",
       "        text-align: right;\n",
       "    }\n",
       "</style>\n",
       "<table border=\"1\" class=\"dataframe\">\n",
       "  <thead>\n",
       "    <tr style=\"text-align: right;\">\n",
       "      <th></th>\n",
       "      <th>datetime</th>\n",
       "      <th>duration_in_secs</th>\n",
       "      <th>country</th>\n",
       "      <th>city</th>\n",
       "      <th>shape</th>\n",
       "      <th>coordinates</th>\n",
       "    </tr>\n",
       "  </thead>\n",
       "  <tbody>\n",
       "    <tr>\n",
       "      <th>0</th>\n",
       "      <td>10/10/1949 20:30</td>\n",
       "      <td>2700</td>\n",
       "      <td>us</td>\n",
       "      <td>san marcos</td>\n",
       "      <td>cylinder</td>\n",
       "      <td>29.8830556,-97.94111109999999</td>\n",
       "    </tr>\n",
       "    <tr>\n",
       "      <th>3</th>\n",
       "      <td>10/10/1956 21:00</td>\n",
       "      <td>20</td>\n",
       "      <td>us</td>\n",
       "      <td>edna</td>\n",
       "      <td>circle</td>\n",
       "      <td>28.9783333,-96.64583329999999</td>\n",
       "    </tr>\n",
       "    <tr>\n",
       "      <th>4</th>\n",
       "      <td>10/10/1960 20:00</td>\n",
       "      <td>900</td>\n",
       "      <td>us</td>\n",
       "      <td>kaneohe</td>\n",
       "      <td>light</td>\n",
       "      <td>21.4180556,-157.8036111</td>\n",
       "    </tr>\n",
       "    <tr>\n",
       "      <th>5</th>\n",
       "      <td>10/10/1961 19:00</td>\n",
       "      <td>300</td>\n",
       "      <td>us</td>\n",
       "      <td>bristol</td>\n",
       "      <td>sphere</td>\n",
       "      <td>36.5950000,-82.18888890000001</td>\n",
       "    </tr>\n",
       "    <tr>\n",
       "      <th>7</th>\n",
       "      <td>10/10/1965 23:45</td>\n",
       "      <td>1200</td>\n",
       "      <td>us</td>\n",
       "      <td>norwalk</td>\n",
       "      <td>disk</td>\n",
       "      <td>41.1175000,-73.4083333</td>\n",
       "    </tr>\n",
       "  </tbody>\n",
       "</table>\n",
       "</div>"
      ],
      "text/plain": [
       "           datetime duration_in_secs country        city     shape  \\\n",
       "0  10/10/1949 20:30             2700      us  san marcos  cylinder   \n",
       "3  10/10/1956 21:00               20      us        edna    circle   \n",
       "4  10/10/1960 20:00              900      us     kaneohe     light   \n",
       "5  10/10/1961 19:00              300      us     bristol    sphere   \n",
       "7  10/10/1965 23:45             1200      us     norwalk      disk   \n",
       "\n",
       "                     coordinates  \n",
       "0  29.8830556,-97.94111109999999  \n",
       "3  28.9783333,-96.64583329999999  \n",
       "4        21.4180556,-157.8036111  \n",
       "5  36.5950000,-82.18888890000001  \n",
       "7         41.1175000,-73.4083333  "
      ]
     },
     "execution_count": 33,
     "metadata": {},
     "output_type": "execute_result"
    }
   ],
   "source": [
    "df3.head()"
   ]
  },
  {
   "cell_type": "code",
   "execution_count": 34,
   "metadata": {},
   "outputs": [
    {
     "data": {
      "text/plain": [
       "((65114, 8), (65114, 6))"
      ]
     },
     "execution_count": 34,
     "metadata": {},
     "output_type": "execute_result"
    }
   ],
   "source": [
    "df2.shape ,df3.shape"
   ]
  },
  {
   "cell_type": "code",
   "execution_count": 35,
   "metadata": {},
   "outputs": [
    {
     "data": {
      "text/plain": [
       "seattle                                           524\n",
       "phoenix                                           454\n",
       "portland                                          373\n",
       "las vegas                                         367\n",
       "los angeles                                       352\n",
       "                                                 ... \n",
       "mt. kisco                                           1\n",
       "blackwater                                          1\n",
       "bedford heights                                     1\n",
       "tigard (12 mi so of portland&#44 exit 290 i 5)      1\n",
       "north versailles                                    1\n",
       "Name: city, Length: 11364, dtype: int64"
      ]
     },
     "execution_count": 35,
     "metadata": {},
     "output_type": "execute_result"
    }
   ],
   "source": [
    "df3.city.value_counts()"
   ]
  },
  {
   "cell_type": "code",
   "execution_count": 36,
   "metadata": {},
   "outputs": [],
   "source": [
    "lst=['seattle','phoenix','portland','las vegas','los angeles']\n",
    "\n"
   ]
  },
  {
   "cell_type": "code",
   "execution_count": 37,
   "metadata": {},
   "outputs": [],
   "source": [
    "df3 = df3[df3['city'].isin(lst)]"
   ]
  },
  {
   "cell_type": "code",
   "execution_count": 38,
   "metadata": {},
   "outputs": [
    {
     "data": {
      "text/plain": [
       "seattle        524\n",
       "phoenix        454\n",
       "portland       373\n",
       "las vegas      367\n",
       "los angeles    352\n",
       "Name: city, dtype: int64"
      ]
     },
     "execution_count": 38,
     "metadata": {},
     "output_type": "execute_result"
    }
   ],
   "source": [
    "df3.city.value_counts()"
   ]
  },
  {
   "cell_type": "code",
   "execution_count": 39,
   "metadata": {},
   "outputs": [
    {
     "data": {
      "text/html": [
       "<div>\n",
       "<style scoped>\n",
       "    .dataframe tbody tr th:only-of-type {\n",
       "        vertical-align: middle;\n",
       "    }\n",
       "\n",
       "    .dataframe tbody tr th {\n",
       "        vertical-align: top;\n",
       "    }\n",
       "\n",
       "    .dataframe thead th {\n",
       "        text-align: right;\n",
       "    }\n",
       "</style>\n",
       "<table border=\"1\" class=\"dataframe\">\n",
       "  <thead>\n",
       "    <tr style=\"text-align: right;\">\n",
       "      <th></th>\n",
       "      <th>datetime</th>\n",
       "      <th>duration_in_secs</th>\n",
       "      <th>country</th>\n",
       "      <th>city</th>\n",
       "      <th>shape</th>\n",
       "      <th>coordinates</th>\n",
       "    </tr>\n",
       "  </thead>\n",
       "  <tbody>\n",
       "    <tr>\n",
       "      <th>75</th>\n",
       "      <td>10/10/1998 17:30</td>\n",
       "      <td>600</td>\n",
       "      <td>us</td>\n",
       "      <td>las vegas</td>\n",
       "      <td>cigar</td>\n",
       "      <td>36.1750000,-115.1363889</td>\n",
       "    </tr>\n",
       "    <tr>\n",
       "      <th>76</th>\n",
       "      <td>10/10/1998 17:30</td>\n",
       "      <td>2700</td>\n",
       "      <td>us</td>\n",
       "      <td>las vegas</td>\n",
       "      <td>circle</td>\n",
       "      <td>36.1750000,-115.1363889</td>\n",
       "    </tr>\n",
       "    <tr>\n",
       "      <th>108</th>\n",
       "      <td>10/10/2001 22:00</td>\n",
       "      <td>60</td>\n",
       "      <td>us</td>\n",
       "      <td>phoenix</td>\n",
       "      <td>triangle</td>\n",
       "      <td>33.4483333,-112.07333329999999</td>\n",
       "    </tr>\n",
       "    <tr>\n",
       "      <th>113</th>\n",
       "      <td>10/10/2002 06:00</td>\n",
       "      <td>90</td>\n",
       "      <td>us</td>\n",
       "      <td>seattle</td>\n",
       "      <td>sphere</td>\n",
       "      <td>47.6063889,-122.33083329999998</td>\n",
       "    </tr>\n",
       "    <tr>\n",
       "      <th>116</th>\n",
       "      <td>10/10/2002 21:00</td>\n",
       "      <td>120</td>\n",
       "      <td>us</td>\n",
       "      <td>portland</td>\n",
       "      <td>circle</td>\n",
       "      <td>45.5236111,-122.675</td>\n",
       "    </tr>\n",
       "  </tbody>\n",
       "</table>\n",
       "</div>"
      ],
      "text/plain": [
       "             datetime duration_in_secs country       city     shape  \\\n",
       "75   10/10/1998 17:30              600      us  las vegas     cigar   \n",
       "76   10/10/1998 17:30             2700      us  las vegas    circle   \n",
       "108  10/10/2001 22:00               60      us    phoenix  triangle   \n",
       "113  10/10/2002 06:00               90      us    seattle    sphere   \n",
       "116  10/10/2002 21:00              120      us   portland    circle   \n",
       "\n",
       "                        coordinates  \n",
       "75          36.1750000,-115.1363889  \n",
       "76          36.1750000,-115.1363889  \n",
       "108  33.4483333,-112.07333329999999  \n",
       "113  47.6063889,-122.33083329999998  \n",
       "116             45.5236111,-122.675  "
      ]
     },
     "execution_count": 39,
     "metadata": {},
     "output_type": "execute_result"
    }
   ],
   "source": [
    "df3.head()"
   ]
  },
  {
   "cell_type": "code",
   "execution_count": 40,
   "metadata": {},
   "outputs": [
    {
     "name": "stdout",
     "output_type": "stream",
     "text": [
      "<class 'pandas.core.frame.DataFrame'>\n",
      "Int64Index: 2070 entries, 75 to 80278\n",
      "Data columns (total 6 columns):\n",
      " #   Column            Non-Null Count  Dtype \n",
      "---  ------            --------------  ----- \n",
      " 0   datetime          2070 non-null   object\n",
      " 1   duration_in_secs  2070 non-null   object\n",
      " 2   country           2070 non-null   object\n",
      " 3   city              2070 non-null   object\n",
      " 4   shape             2070 non-null   object\n",
      " 5   coordinates       2070 non-null   object\n",
      "dtypes: object(6)\n",
      "memory usage: 113.2+ KB\n"
     ]
    }
   ],
   "source": [
    "df3.info()"
   ]
  },
  {
   "cell_type": "code",
   "execution_count": 75,
   "metadata": {},
   "outputs": [
    {
     "name": "stdout",
     "output_type": "stream",
     "text": [
      "\u001b[31mERROR: Invalid requirement: '!pip'\u001b[0m\r\n"
     ]
    }
   ],
   "source": [
    "! pip install haversine"
   ]
  },
  {
   "cell_type": "code",
   "execution_count": 76,
   "metadata": {},
   "outputs": [
    {
     "name": "stdout",
     "output_type": "stream",
     "text": [
      "Requirement already satisfied: haversine==0.3 in /home/vdiazpliego/anaconda3/lib/python3.8/site-packages (0.3)\r\n"
     ]
    }
   ],
   "source": [
    "!pip install haversine==0.3"
   ]
  },
  {
   "cell_type": "code",
   "execution_count": 77,
   "metadata": {},
   "outputs": [
    {
     "data": {
      "text/plain": [
       "392.2172595594006"
      ]
     },
     "execution_count": 77,
     "metadata": {},
     "output_type": "execute_result"
    }
   ],
   "source": [
    "from haversine import haversine, Unit\n",
    "\n",
    "lyon = (45.7597, 4.8422) # (lat, lon)\n",
    "paris = (48.8567, 2.3508)\n",
    "\n",
    "haversine(lyon, paris)\n"
   ]
  },
  {
   "cell_type": "code",
   "execution_count": 83,
   "metadata": {},
   "outputs": [],
   "source": [
    "def distancia(x):\n",
    "    #area_51 = (37.234332396 , -115.80666344) \n",
    "    paris = (48.8567, 2.3508)\n",
    "  \n",
    "    return harvesine(x,paris)\n",
    "\n",
    "def cambio(x):\n",
    "    n1=float(x.split(',')[0])\n",
    "    n2=float(x.split(',')[1])\n",
    "    \n",
    "    return(n1,n2)"
   ]
  },
  {
   "cell_type": "code",
   "execution_count": 79,
   "metadata": {},
   "outputs": [],
   "source": [
    "def distancia2(x):\n",
    "    palo_verde = (33.3916667 , -112.8638889) \n",
    "    \n",
    "    return haversine(x, palo_verde)"
   ]
  },
  {
   "cell_type": "code",
   "execution_count": 94,
   "metadata": {},
   "outputs": [],
   "source": [
    "def distancia3(x):\n",
    "    parea_51 = (37.234332396 , -115.80666344)\n",
    "    \n",
    "    return haversine(x, parea_51)"
   ]
  },
  {
   "cell_type": "code",
   "execution_count": 45,
   "metadata": {},
   "outputs": [],
   "source": [
    "df3.coordinates= df3.coordinates.apply(cambio)"
   ]
  },
  {
   "cell_type": "code",
   "execution_count": 80,
   "metadata": {},
   "outputs": [
    {
     "data": {
      "text/html": [
       "<div>\n",
       "<style scoped>\n",
       "    .dataframe tbody tr th:only-of-type {\n",
       "        vertical-align: middle;\n",
       "    }\n",
       "\n",
       "    .dataframe tbody tr th {\n",
       "        vertical-align: top;\n",
       "    }\n",
       "\n",
       "    .dataframe thead th {\n",
       "        text-align: right;\n",
       "    }\n",
       "</style>\n",
       "<table border=\"1\" class=\"dataframe\">\n",
       "  <thead>\n",
       "    <tr style=\"text-align: right;\">\n",
       "      <th></th>\n",
       "      <th>datetime</th>\n",
       "      <th>duration_in_secs</th>\n",
       "      <th>country</th>\n",
       "      <th>city</th>\n",
       "      <th>shape</th>\n",
       "      <th>coordinates</th>\n",
       "    </tr>\n",
       "  </thead>\n",
       "  <tbody>\n",
       "    <tr>\n",
       "      <th>75</th>\n",
       "      <td>10/10/1998 17:30</td>\n",
       "      <td>600</td>\n",
       "      <td>us</td>\n",
       "      <td>las vegas</td>\n",
       "      <td>cigar</td>\n",
       "      <td>(36.175, -115.1363889)</td>\n",
       "    </tr>\n",
       "    <tr>\n",
       "      <th>76</th>\n",
       "      <td>10/10/1998 17:30</td>\n",
       "      <td>2700</td>\n",
       "      <td>us</td>\n",
       "      <td>las vegas</td>\n",
       "      <td>circle</td>\n",
       "      <td>(36.175, -115.1363889)</td>\n",
       "    </tr>\n",
       "    <tr>\n",
       "      <th>108</th>\n",
       "      <td>10/10/2001 22:00</td>\n",
       "      <td>60</td>\n",
       "      <td>us</td>\n",
       "      <td>phoenix</td>\n",
       "      <td>triangle</td>\n",
       "      <td>(33.4483333, -112.07333329999999)</td>\n",
       "    </tr>\n",
       "    <tr>\n",
       "      <th>113</th>\n",
       "      <td>10/10/2002 06:00</td>\n",
       "      <td>90</td>\n",
       "      <td>us</td>\n",
       "      <td>seattle</td>\n",
       "      <td>sphere</td>\n",
       "      <td>(47.6063889, -122.33083329999998)</td>\n",
       "    </tr>\n",
       "    <tr>\n",
       "      <th>116</th>\n",
       "      <td>10/10/2002 21:00</td>\n",
       "      <td>120</td>\n",
       "      <td>us</td>\n",
       "      <td>portland</td>\n",
       "      <td>circle</td>\n",
       "      <td>(45.5236111, -122.675)</td>\n",
       "    </tr>\n",
       "  </tbody>\n",
       "</table>\n",
       "</div>"
      ],
      "text/plain": [
       "             datetime duration_in_secs country       city     shape  \\\n",
       "75   10/10/1998 17:30              600      us  las vegas     cigar   \n",
       "76   10/10/1998 17:30             2700      us  las vegas    circle   \n",
       "108  10/10/2001 22:00               60      us    phoenix  triangle   \n",
       "113  10/10/2002 06:00               90      us    seattle    sphere   \n",
       "116  10/10/2002 21:00              120      us   portland    circle   \n",
       "\n",
       "                           coordinates  \n",
       "75              (36.175, -115.1363889)  \n",
       "76              (36.175, -115.1363889)  \n",
       "108  (33.4483333, -112.07333329999999)  \n",
       "113  (47.6063889, -122.33083329999998)  \n",
       "116             (45.5236111, -122.675)  "
      ]
     },
     "execution_count": 80,
     "metadata": {},
     "output_type": "execute_result"
    }
   ],
   "source": [
    "df3.head()"
   ]
  },
  {
   "cell_type": "code",
   "execution_count": 81,
   "metadata": {},
   "outputs": [
    {
     "name": "stdout",
     "output_type": "stream",
     "text": [
      "<class 'pandas.core.frame.DataFrame'>\n",
      "Int64Index: 2070 entries, 75 to 80278\n",
      "Data columns (total 6 columns):\n",
      " #   Column            Non-Null Count  Dtype \n",
      "---  ------            --------------  ----- \n",
      " 0   datetime          2070 non-null   object\n",
      " 1   duration_in_secs  2070 non-null   object\n",
      " 2   country           2070 non-null   object\n",
      " 3   city              2070 non-null   object\n",
      " 4   shape             2070 non-null   object\n",
      " 5   coordinates       2070 non-null   object\n",
      "dtypes: object(6)\n",
      "memory usage: 113.2+ KB\n"
     ]
    }
   ],
   "source": [
    "df3.info()"
   ]
  },
  {
   "cell_type": "code",
   "execution_count": 95,
   "metadata": {},
   "outputs": [],
   "source": [
    "df3['distance_in _km_from_a51'] =df3.coordinates.apply(distancia3)"
   ]
  },
  {
   "cell_type": "code",
   "execution_count": 96,
   "metadata": {},
   "outputs": [],
   "source": [
    "df3['distance_in _km_from_a51'] = df3['distance_in _km_from_a51'].astype(int)"
   ]
  },
  {
   "cell_type": "code",
   "execution_count": 97,
   "metadata": {},
   "outputs": [],
   "source": [
    "df3['coordinates_area_51']= '37.234332396 , -115.80666344'"
   ]
  },
  {
   "cell_type": "code",
   "execution_count": 98,
   "metadata": {},
   "outputs": [],
   "source": [
    "df3['coordinates_area_51']= df3['coordinates_area_51'].apply(cambio)"
   ]
  },
  {
   "cell_type": "code",
   "execution_count": 99,
   "metadata": {},
   "outputs": [],
   "source": [
    "df3['coordinates_palo_verde_nuclear_generating_station']= '33.3916667 , -112.8638889'"
   ]
  },
  {
   "cell_type": "code",
   "execution_count": 100,
   "metadata": {},
   "outputs": [],
   "source": [
    "df3['coordinates_palo_verde_nuclear_generating_station']=df3['coordinates_palo_verde_nuclear_generating_station'].apply(cambio)"
   ]
  },
  {
   "cell_type": "code",
   "execution_count": 101,
   "metadata": {},
   "outputs": [],
   "source": [
    "df3['distance_in _km_from_palo_verde_ngs']=df3.coordinates.apply(distancia2)"
   ]
  },
  {
   "cell_type": "code",
   "execution_count": 102,
   "metadata": {},
   "outputs": [],
   "source": [
    "df3['distance_in _km_from_palo_verde_ngs']=df3['distance_in _km_from_palo_verde_ngs'].astype(int)"
   ]
  },
  {
   "cell_type": "markdown",
   "metadata": {},
   "source": [
    "Mergeo del dataframe 1= registros USA UFOS(csv limpio) + coordenadas area 51 (webscapping)"
   ]
  },
  {
   "cell_type": "code",
   "execution_count": 104,
   "metadata": {},
   "outputs": [
    {
     "data": {
      "text/html": [
       "<div>\n",
       "<style scoped>\n",
       "    .dataframe tbody tr th:only-of-type {\n",
       "        vertical-align: middle;\n",
       "    }\n",
       "\n",
       "    .dataframe tbody tr th {\n",
       "        vertical-align: top;\n",
       "    }\n",
       "\n",
       "    .dataframe thead th {\n",
       "        text-align: right;\n",
       "    }\n",
       "</style>\n",
       "<table border=\"1\" class=\"dataframe\">\n",
       "  <thead>\n",
       "    <tr style=\"text-align: right;\">\n",
       "      <th></th>\n",
       "      <th>datetime</th>\n",
       "      <th>duration_in_secs</th>\n",
       "      <th>country</th>\n",
       "      <th>city</th>\n",
       "      <th>shape</th>\n",
       "      <th>coordinates</th>\n",
       "      <th>coordinates_area_51</th>\n",
       "      <th>coordinates_palo_verde_nuclear_generating_station</th>\n",
       "      <th>distance_in _km_from_palo_verde_ngs</th>\n",
       "      <th>distance_in _km_from_a51</th>\n",
       "    </tr>\n",
       "  </thead>\n",
       "  <tbody>\n",
       "    <tr>\n",
       "      <th>75</th>\n",
       "      <td>10/10/1998 17:30</td>\n",
       "      <td>600</td>\n",
       "      <td>us</td>\n",
       "      <td>las vegas</td>\n",
       "      <td>cigar</td>\n",
       "      <td>(36.175, -115.1363889)</td>\n",
       "      <td>(37.234332396, -115.80666344)</td>\n",
       "      <td>(33.3916667, -112.8638889)</td>\n",
       "      <td>372</td>\n",
       "      <td>132</td>\n",
       "    </tr>\n",
       "    <tr>\n",
       "      <th>76</th>\n",
       "      <td>10/10/1998 17:30</td>\n",
       "      <td>2700</td>\n",
       "      <td>us</td>\n",
       "      <td>las vegas</td>\n",
       "      <td>circle</td>\n",
       "      <td>(36.175, -115.1363889)</td>\n",
       "      <td>(37.234332396, -115.80666344)</td>\n",
       "      <td>(33.3916667, -112.8638889)</td>\n",
       "      <td>372</td>\n",
       "      <td>132</td>\n",
       "    </tr>\n",
       "    <tr>\n",
       "      <th>108</th>\n",
       "      <td>10/10/2001 22:00</td>\n",
       "      <td>60</td>\n",
       "      <td>us</td>\n",
       "      <td>phoenix</td>\n",
       "      <td>triangle</td>\n",
       "      <td>(33.4483333, -112.07333329999999)</td>\n",
       "      <td>(37.234332396, -115.80666344)</td>\n",
       "      <td>(33.3916667, -112.8638889)</td>\n",
       "      <td>73</td>\n",
       "      <td>540</td>\n",
       "    </tr>\n",
       "    <tr>\n",
       "      <th>113</th>\n",
       "      <td>10/10/2002 06:00</td>\n",
       "      <td>90</td>\n",
       "      <td>us</td>\n",
       "      <td>seattle</td>\n",
       "      <td>sphere</td>\n",
       "      <td>(47.6063889, -122.33083329999998)</td>\n",
       "      <td>(37.234332396, -115.80666344)</td>\n",
       "      <td>(33.3916667, -112.8638889)</td>\n",
       "      <td>1768</td>\n",
       "      <td>1270</td>\n",
       "    </tr>\n",
       "    <tr>\n",
       "      <th>116</th>\n",
       "      <td>10/10/2002 21:00</td>\n",
       "      <td>120</td>\n",
       "      <td>us</td>\n",
       "      <td>portland</td>\n",
       "      <td>circle</td>\n",
       "      <td>(45.5236111, -122.675)</td>\n",
       "      <td>(37.234332396, -115.80666344)</td>\n",
       "      <td>(33.3916667, -112.8638889)</td>\n",
       "      <td>1587</td>\n",
       "      <td>1084</td>\n",
       "    </tr>\n",
       "  </tbody>\n",
       "</table>\n",
       "</div>"
      ],
      "text/plain": [
       "             datetime duration_in_secs country       city     shape  \\\n",
       "75   10/10/1998 17:30              600      us  las vegas     cigar   \n",
       "76   10/10/1998 17:30             2700      us  las vegas    circle   \n",
       "108  10/10/2001 22:00               60      us    phoenix  triangle   \n",
       "113  10/10/2002 06:00               90      us    seattle    sphere   \n",
       "116  10/10/2002 21:00              120      us   portland    circle   \n",
       "\n",
       "                           coordinates            coordinates_area_51  \\\n",
       "75              (36.175, -115.1363889)  (37.234332396, -115.80666344)   \n",
       "76              (36.175, -115.1363889)  (37.234332396, -115.80666344)   \n",
       "108  (33.4483333, -112.07333329999999)  (37.234332396, -115.80666344)   \n",
       "113  (47.6063889, -122.33083329999998)  (37.234332396, -115.80666344)   \n",
       "116             (45.5236111, -122.675)  (37.234332396, -115.80666344)   \n",
       "\n",
       "    coordinates_palo_verde_nuclear_generating_station  \\\n",
       "75                         (33.3916667, -112.8638889)   \n",
       "76                         (33.3916667, -112.8638889)   \n",
       "108                        (33.3916667, -112.8638889)   \n",
       "113                        (33.3916667, -112.8638889)   \n",
       "116                        (33.3916667, -112.8638889)   \n",
       "\n",
       "     distance_in _km_from_palo_verde_ngs  distance_in _km_from_a51  \n",
       "75                                   372                       132  \n",
       "76                                   372                       132  \n",
       "108                                   73                       540  \n",
       "113                                 1768                      1270  \n",
       "116                                 1587                      1084  "
      ]
     },
     "execution_count": 104,
     "metadata": {},
     "output_type": "execute_result"
    }
   ],
   "source": [
    "df3.head()"
   ]
  },
  {
   "cell_type": "code",
   "execution_count": 105,
   "metadata": {},
   "outputs": [],
   "source": [
    "df3['datetime']=pd.to_datetime(df3['datetime'], errors='coerce')"
   ]
  },
  {
   "cell_type": "code",
   "execution_count": 106,
   "metadata": {},
   "outputs": [
    {
     "name": "stdout",
     "output_type": "stream",
     "text": [
      "<class 'pandas.core.frame.DataFrame'>\n",
      "Int64Index: 2070 entries, 75 to 80278\n",
      "Data columns (total 10 columns):\n",
      " #   Column                                             Non-Null Count  Dtype         \n",
      "---  ------                                             --------------  -----         \n",
      " 0   datetime                                           2057 non-null   datetime64[ns]\n",
      " 1   duration_in_secs                                   2070 non-null   object        \n",
      " 2   country                                            2070 non-null   object        \n",
      " 3   city                                               2070 non-null   object        \n",
      " 4   shape                                              2070 non-null   object        \n",
      " 5   coordinates                                        2070 non-null   object        \n",
      " 6   coordinates_area_51                                2070 non-null   object        \n",
      " 7   coordinates_palo_verde_nuclear_generating_station  2070 non-null   object        \n",
      " 8   distance_in _km_from_palo_verde_ngs                2070 non-null   int64         \n",
      " 9   distance_in _km_from_a51                           2070 non-null   int64         \n",
      "dtypes: datetime64[ns](1), int64(2), object(7)\n",
      "memory usage: 177.9+ KB\n"
     ]
    }
   ],
   "source": [
    "df3.info()"
   ]
  },
  {
   "cell_type": "code",
   "execution_count": 108,
   "metadata": {},
   "outputs": [],
   "source": [
    "df3 = df3.sort_values(by='datetime', ascending = False ) "
   ]
  },
  {
   "cell_type": "code",
   "execution_count": 109,
   "metadata": {},
   "outputs": [
    {
     "data": {
      "text/html": [
       "<div>\n",
       "<style scoped>\n",
       "    .dataframe tbody tr th:only-of-type {\n",
       "        vertical-align: middle;\n",
       "    }\n",
       "\n",
       "    .dataframe tbody tr th {\n",
       "        vertical-align: top;\n",
       "    }\n",
       "\n",
       "    .dataframe thead th {\n",
       "        text-align: right;\n",
       "    }\n",
       "</style>\n",
       "<table border=\"1\" class=\"dataframe\">\n",
       "  <thead>\n",
       "    <tr style=\"text-align: right;\">\n",
       "      <th></th>\n",
       "      <th>datetime</th>\n",
       "      <th>duration_in_secs</th>\n",
       "      <th>country</th>\n",
       "      <th>city</th>\n",
       "      <th>shape</th>\n",
       "      <th>coordinates</th>\n",
       "      <th>coordinates_area_51</th>\n",
       "      <th>coordinates_palo_verde_nuclear_generating_station</th>\n",
       "      <th>distance_in _km_from_palo_verde_ngs</th>\n",
       "      <th>distance_in _km_from_a51</th>\n",
       "    </tr>\n",
       "  </thead>\n",
       "  <tbody>\n",
       "    <tr>\n",
       "      <th>41797</th>\n",
       "      <td>2014-05-01 21:00:00</td>\n",
       "      <td>2700</td>\n",
       "      <td>us</td>\n",
       "      <td>los angeles</td>\n",
       "      <td>light</td>\n",
       "      <td>(34.0522222, -118.2427778)</td>\n",
       "      <td>(37.234332396, -115.80666344)</td>\n",
       "      <td>(33.3916667, -112.8638889)</td>\n",
       "      <td>502</td>\n",
       "      <td>416</td>\n",
       "    </tr>\n",
       "    <tr>\n",
       "      <th>39963</th>\n",
       "      <td>2014-04-30 21:10:00</td>\n",
       "      <td>60</td>\n",
       "      <td>us</td>\n",
       "      <td>las vegas</td>\n",
       "      <td>light</td>\n",
       "      <td>(36.175, -115.1363889)</td>\n",
       "      <td>(37.234332396, -115.80666344)</td>\n",
       "      <td>(33.3916667, -112.8638889)</td>\n",
       "      <td>372</td>\n",
       "      <td>132</td>\n",
       "    </tr>\n",
       "    <tr>\n",
       "      <th>38936</th>\n",
       "      <td>2014-04-24 20:00:00</td>\n",
       "      <td>240</td>\n",
       "      <td>us</td>\n",
       "      <td>phoenix</td>\n",
       "      <td>circle</td>\n",
       "      <td>(33.4483333, -112.07333329999999)</td>\n",
       "      <td>(37.234332396, -115.80666344)</td>\n",
       "      <td>(33.3916667, -112.8638889)</td>\n",
       "      <td>73</td>\n",
       "      <td>540</td>\n",
       "    </tr>\n",
       "    <tr>\n",
       "      <th>38756</th>\n",
       "      <td>2014-04-23 20:30:00</td>\n",
       "      <td>300</td>\n",
       "      <td>us</td>\n",
       "      <td>phoenix</td>\n",
       "      <td>circle</td>\n",
       "      <td>(33.4483333, -112.07333329999999)</td>\n",
       "      <td>(37.234332396, -115.80666344)</td>\n",
       "      <td>(33.3916667, -112.8638889)</td>\n",
       "      <td>73</td>\n",
       "      <td>540</td>\n",
       "    </tr>\n",
       "    <tr>\n",
       "      <th>38073</th>\n",
       "      <td>2014-04-20 22:50:00</td>\n",
       "      <td>5</td>\n",
       "      <td>us</td>\n",
       "      <td>seattle</td>\n",
       "      <td>formation</td>\n",
       "      <td>(47.6063889, -122.33083329999998)</td>\n",
       "      <td>(37.234332396, -115.80666344)</td>\n",
       "      <td>(33.3916667, -112.8638889)</td>\n",
       "      <td>1768</td>\n",
       "      <td>1270</td>\n",
       "    </tr>\n",
       "    <tr>\n",
       "      <th>38059</th>\n",
       "      <td>2014-04-20 20:00:00</td>\n",
       "      <td>1200</td>\n",
       "      <td>us</td>\n",
       "      <td>seattle</td>\n",
       "      <td>light</td>\n",
       "      <td>(47.6063889, -122.33083329999998)</td>\n",
       "      <td>(37.234332396, -115.80666344)</td>\n",
       "      <td>(33.3916667, -112.8638889)</td>\n",
       "      <td>1768</td>\n",
       "      <td>1270</td>\n",
       "    </tr>\n",
       "    <tr>\n",
       "      <th>38057</th>\n",
       "      <td>2014-04-20 18:20:00</td>\n",
       "      <td>5</td>\n",
       "      <td>us</td>\n",
       "      <td>las vegas</td>\n",
       "      <td>light</td>\n",
       "      <td>(36.175, -115.1363889)</td>\n",
       "      <td>(37.234332396, -115.80666344)</td>\n",
       "      <td>(33.3916667, -112.8638889)</td>\n",
       "      <td>372</td>\n",
       "      <td>132</td>\n",
       "    </tr>\n",
       "    <tr>\n",
       "      <th>38052</th>\n",
       "      <td>2014-04-20 06:10:00</td>\n",
       "      <td>5</td>\n",
       "      <td>us</td>\n",
       "      <td>las vegas</td>\n",
       "      <td>light</td>\n",
       "      <td>(36.175, -115.1363889)</td>\n",
       "      <td>(37.234332396, -115.80666344)</td>\n",
       "      <td>(33.3916667, -112.8638889)</td>\n",
       "      <td>372</td>\n",
       "      <td>132</td>\n",
       "    </tr>\n",
       "    <tr>\n",
       "      <th>37834</th>\n",
       "      <td>2014-04-19 21:00:00</td>\n",
       "      <td>180</td>\n",
       "      <td>us</td>\n",
       "      <td>phoenix</td>\n",
       "      <td>circle</td>\n",
       "      <td>(33.4483333, -112.07333329999999)</td>\n",
       "      <td>(37.234332396, -115.80666344)</td>\n",
       "      <td>(33.3916667, -112.8638889)</td>\n",
       "      <td>73</td>\n",
       "      <td>540</td>\n",
       "    </tr>\n",
       "    <tr>\n",
       "      <th>37674</th>\n",
       "      <td>2014-04-18 23:05:00</td>\n",
       "      <td>240</td>\n",
       "      <td>us</td>\n",
       "      <td>phoenix</td>\n",
       "      <td>oval</td>\n",
       "      <td>(33.4483333, -112.07333329999999)</td>\n",
       "      <td>(37.234332396, -115.80666344)</td>\n",
       "      <td>(33.3916667, -112.8638889)</td>\n",
       "      <td>73</td>\n",
       "      <td>540</td>\n",
       "    </tr>\n",
       "    <tr>\n",
       "      <th>37656</th>\n",
       "      <td>2014-04-18 12:00:00</td>\n",
       "      <td>300</td>\n",
       "      <td>us</td>\n",
       "      <td>portland</td>\n",
       "      <td>light</td>\n",
       "      <td>(45.5236111, -122.675)</td>\n",
       "      <td>(37.234332396, -115.80666344)</td>\n",
       "      <td>(33.3916667, -112.8638889)</td>\n",
       "      <td>1587</td>\n",
       "      <td>1084</td>\n",
       "    </tr>\n",
       "    <tr>\n",
       "      <th>37323</th>\n",
       "      <td>2014-04-16 20:20:00</td>\n",
       "      <td>300</td>\n",
       "      <td>us</td>\n",
       "      <td>las vegas</td>\n",
       "      <td>unknown</td>\n",
       "      <td>(36.175, -115.1363889)</td>\n",
       "      <td>(37.234332396, -115.80666344)</td>\n",
       "      <td>(33.3916667, -112.8638889)</td>\n",
       "      <td>372</td>\n",
       "      <td>132</td>\n",
       "    </tr>\n",
       "    <tr>\n",
       "      <th>37097</th>\n",
       "      <td>2014-04-15 01:00:00</td>\n",
       "      <td>5</td>\n",
       "      <td>us</td>\n",
       "      <td>los angeles</td>\n",
       "      <td>light</td>\n",
       "      <td>(34.0522222, -118.2427778)</td>\n",
       "      <td>(37.234332396, -115.80666344)</td>\n",
       "      <td>(33.3916667, -112.8638889)</td>\n",
       "      <td>502</td>\n",
       "      <td>416</td>\n",
       "    </tr>\n",
       "    <tr>\n",
       "      <th>37096</th>\n",
       "      <td>2014-04-15 00:00:00</td>\n",
       "      <td>60</td>\n",
       "      <td>us</td>\n",
       "      <td>portland</td>\n",
       "      <td>sphere</td>\n",
       "      <td>(45.5236111, -122.675)</td>\n",
       "      <td>(37.234332396, -115.80666344)</td>\n",
       "      <td>(33.3916667, -112.8638889)</td>\n",
       "      <td>1587</td>\n",
       "      <td>1084</td>\n",
       "    </tr>\n",
       "    <tr>\n",
       "      <th>36756</th>\n",
       "      <td>2014-04-14 20:00:00</td>\n",
       "      <td>300</td>\n",
       "      <td>us</td>\n",
       "      <td>las vegas</td>\n",
       "      <td>other</td>\n",
       "      <td>(36.175, -115.1363889)</td>\n",
       "      <td>(37.234332396, -115.80666344)</td>\n",
       "      <td>(33.3916667, -112.8638889)</td>\n",
       "      <td>372</td>\n",
       "      <td>132</td>\n",
       "    </tr>\n",
       "  </tbody>\n",
       "</table>\n",
       "</div>"
      ],
      "text/plain": [
       "                 datetime duration_in_secs country         city      shape  \\\n",
       "41797 2014-05-01 21:00:00             2700      us  los angeles      light   \n",
       "39963 2014-04-30 21:10:00               60      us    las vegas      light   \n",
       "38936 2014-04-24 20:00:00              240      us      phoenix     circle   \n",
       "38756 2014-04-23 20:30:00              300      us      phoenix     circle   \n",
       "38073 2014-04-20 22:50:00                5      us      seattle  formation   \n",
       "38059 2014-04-20 20:00:00             1200      us      seattle      light   \n",
       "38057 2014-04-20 18:20:00                5      us    las vegas      light   \n",
       "38052 2014-04-20 06:10:00                5      us    las vegas      light   \n",
       "37834 2014-04-19 21:00:00              180      us      phoenix     circle   \n",
       "37674 2014-04-18 23:05:00              240      us      phoenix       oval   \n",
       "37656 2014-04-18 12:00:00              300      us     portland      light   \n",
       "37323 2014-04-16 20:20:00              300      us    las vegas    unknown   \n",
       "37097 2014-04-15 01:00:00                5      us  los angeles      light   \n",
       "37096 2014-04-15 00:00:00               60      us     portland     sphere   \n",
       "36756 2014-04-14 20:00:00              300      us    las vegas      other   \n",
       "\n",
       "                             coordinates            coordinates_area_51  \\\n",
       "41797         (34.0522222, -118.2427778)  (37.234332396, -115.80666344)   \n",
       "39963             (36.175, -115.1363889)  (37.234332396, -115.80666344)   \n",
       "38936  (33.4483333, -112.07333329999999)  (37.234332396, -115.80666344)   \n",
       "38756  (33.4483333, -112.07333329999999)  (37.234332396, -115.80666344)   \n",
       "38073  (47.6063889, -122.33083329999998)  (37.234332396, -115.80666344)   \n",
       "38059  (47.6063889, -122.33083329999998)  (37.234332396, -115.80666344)   \n",
       "38057             (36.175, -115.1363889)  (37.234332396, -115.80666344)   \n",
       "38052             (36.175, -115.1363889)  (37.234332396, -115.80666344)   \n",
       "37834  (33.4483333, -112.07333329999999)  (37.234332396, -115.80666344)   \n",
       "37674  (33.4483333, -112.07333329999999)  (37.234332396, -115.80666344)   \n",
       "37656             (45.5236111, -122.675)  (37.234332396, -115.80666344)   \n",
       "37323             (36.175, -115.1363889)  (37.234332396, -115.80666344)   \n",
       "37097         (34.0522222, -118.2427778)  (37.234332396, -115.80666344)   \n",
       "37096             (45.5236111, -122.675)  (37.234332396, -115.80666344)   \n",
       "36756             (36.175, -115.1363889)  (37.234332396, -115.80666344)   \n",
       "\n",
       "      coordinates_palo_verde_nuclear_generating_station  \\\n",
       "41797                        (33.3916667, -112.8638889)   \n",
       "39963                        (33.3916667, -112.8638889)   \n",
       "38936                        (33.3916667, -112.8638889)   \n",
       "38756                        (33.3916667, -112.8638889)   \n",
       "38073                        (33.3916667, -112.8638889)   \n",
       "38059                        (33.3916667, -112.8638889)   \n",
       "38057                        (33.3916667, -112.8638889)   \n",
       "38052                        (33.3916667, -112.8638889)   \n",
       "37834                        (33.3916667, -112.8638889)   \n",
       "37674                        (33.3916667, -112.8638889)   \n",
       "37656                        (33.3916667, -112.8638889)   \n",
       "37323                        (33.3916667, -112.8638889)   \n",
       "37097                        (33.3916667, -112.8638889)   \n",
       "37096                        (33.3916667, -112.8638889)   \n",
       "36756                        (33.3916667, -112.8638889)   \n",
       "\n",
       "       distance_in _km_from_palo_verde_ngs  distance_in _km_from_a51  \n",
       "41797                                  502                       416  \n",
       "39963                                  372                       132  \n",
       "38936                                   73                       540  \n",
       "38756                                   73                       540  \n",
       "38073                                 1768                      1270  \n",
       "38059                                 1768                      1270  \n",
       "38057                                  372                       132  \n",
       "38052                                  372                       132  \n",
       "37834                                   73                       540  \n",
       "37674                                   73                       540  \n",
       "37656                                 1587                      1084  \n",
       "37323                                  372                       132  \n",
       "37097                                  502                       416  \n",
       "37096                                 1587                      1084  \n",
       "36756                                  372                       132  "
      ]
     },
     "execution_count": 109,
     "metadata": {},
     "output_type": "execute_result"
    }
   ],
   "source": [
    "df3.head(15)"
   ]
  },
  {
   "cell_type": "code",
   "execution_count": 110,
   "metadata": {},
   "outputs": [
    {
     "data": {
      "text/plain": [
       "seattle        524\n",
       "phoenix        454\n",
       "portland       373\n",
       "las vegas      367\n",
       "los angeles    352\n",
       "Name: city, dtype: int64"
      ]
     },
     "execution_count": 110,
     "metadata": {},
     "output_type": "execute_result"
    }
   ],
   "source": [
    "df3.city.value_counts()"
   ]
  },
  {
   "cell_type": "code",
   "execution_count": 111,
   "metadata": {},
   "outputs": [
    {
     "data": {
      "text/plain": [
       "(2070, 10)"
      ]
     },
     "execution_count": 111,
     "metadata": {},
     "output_type": "execute_result"
    }
   ],
   "source": [
    "df3.shape"
   ]
  },
  {
   "cell_type": "code",
   "execution_count": 112,
   "metadata": {},
   "outputs": [],
   "source": [
    "nan_cols= df3.isna().sum()"
   ]
  },
  {
   "cell_type": "code",
   "execution_count": 113,
   "metadata": {},
   "outputs": [
    {
     "data": {
      "text/html": [
       "<div>\n",
       "<style scoped>\n",
       "    .dataframe tbody tr th:only-of-type {\n",
       "        vertical-align: middle;\n",
       "    }\n",
       "\n",
       "    .dataframe tbody tr th {\n",
       "        vertical-align: top;\n",
       "    }\n",
       "\n",
       "    .dataframe thead th {\n",
       "        text-align: right;\n",
       "    }\n",
       "</style>\n",
       "<table border=\"1\" class=\"dataframe\">\n",
       "  <thead>\n",
       "    <tr style=\"text-align: right;\">\n",
       "      <th></th>\n",
       "      <th>datetime</th>\n",
       "      <th>duration_in_secs</th>\n",
       "      <th>country</th>\n",
       "      <th>city</th>\n",
       "      <th>shape</th>\n",
       "      <th>coordinates</th>\n",
       "      <th>coordinates_area_51</th>\n",
       "      <th>coordinates_palo_verde_nuclear_generating_station</th>\n",
       "      <th>distance_in _km_from_palo_verde_ngs</th>\n",
       "      <th>distance_in _km_from_a51</th>\n",
       "    </tr>\n",
       "  </thead>\n",
       "  <tbody>\n",
       "    <tr>\n",
       "      <th>41797</th>\n",
       "      <td>2014-05-01 21:00:00</td>\n",
       "      <td>2700</td>\n",
       "      <td>us</td>\n",
       "      <td>los angeles</td>\n",
       "      <td>light</td>\n",
       "      <td>(34.0522222, -118.2427778)</td>\n",
       "      <td>(37.234332396, -115.80666344)</td>\n",
       "      <td>(33.3916667, -112.8638889)</td>\n",
       "      <td>502</td>\n",
       "      <td>416</td>\n",
       "    </tr>\n",
       "    <tr>\n",
       "      <th>39963</th>\n",
       "      <td>2014-04-30 21:10:00</td>\n",
       "      <td>60</td>\n",
       "      <td>us</td>\n",
       "      <td>las vegas</td>\n",
       "      <td>light</td>\n",
       "      <td>(36.175, -115.1363889)</td>\n",
       "      <td>(37.234332396, -115.80666344)</td>\n",
       "      <td>(33.3916667, -112.8638889)</td>\n",
       "      <td>372</td>\n",
       "      <td>132</td>\n",
       "    </tr>\n",
       "    <tr>\n",
       "      <th>38936</th>\n",
       "      <td>2014-04-24 20:00:00</td>\n",
       "      <td>240</td>\n",
       "      <td>us</td>\n",
       "      <td>phoenix</td>\n",
       "      <td>circle</td>\n",
       "      <td>(33.4483333, -112.07333329999999)</td>\n",
       "      <td>(37.234332396, -115.80666344)</td>\n",
       "      <td>(33.3916667, -112.8638889)</td>\n",
       "      <td>73</td>\n",
       "      <td>540</td>\n",
       "    </tr>\n",
       "    <tr>\n",
       "      <th>38756</th>\n",
       "      <td>2014-04-23 20:30:00</td>\n",
       "      <td>300</td>\n",
       "      <td>us</td>\n",
       "      <td>phoenix</td>\n",
       "      <td>circle</td>\n",
       "      <td>(33.4483333, -112.07333329999999)</td>\n",
       "      <td>(37.234332396, -115.80666344)</td>\n",
       "      <td>(33.3916667, -112.8638889)</td>\n",
       "      <td>73</td>\n",
       "      <td>540</td>\n",
       "    </tr>\n",
       "    <tr>\n",
       "      <th>38073</th>\n",
       "      <td>2014-04-20 22:50:00</td>\n",
       "      <td>5</td>\n",
       "      <td>us</td>\n",
       "      <td>seattle</td>\n",
       "      <td>formation</td>\n",
       "      <td>(47.6063889, -122.33083329999998)</td>\n",
       "      <td>(37.234332396, -115.80666344)</td>\n",
       "      <td>(33.3916667, -112.8638889)</td>\n",
       "      <td>1768</td>\n",
       "      <td>1270</td>\n",
       "    </tr>\n",
       "    <tr>\n",
       "      <th>...</th>\n",
       "      <td>...</td>\n",
       "      <td>...</td>\n",
       "      <td>...</td>\n",
       "      <td>...</td>\n",
       "      <td>...</td>\n",
       "      <td>...</td>\n",
       "      <td>...</td>\n",
       "      <td>...</td>\n",
       "      <td>...</td>\n",
       "      <td>...</td>\n",
       "    </tr>\n",
       "    <tr>\n",
       "      <th>55117</th>\n",
       "      <td>1954-07-01 22:00:00</td>\n",
       "      <td>15</td>\n",
       "      <td>us</td>\n",
       "      <td>los angeles</td>\n",
       "      <td>circle</td>\n",
       "      <td>(34.0522222, -118.2427778)</td>\n",
       "      <td>(37.234332396, -115.80666344)</td>\n",
       "      <td>(33.3916667, -112.8638889)</td>\n",
       "      <td>502</td>\n",
       "      <td>416</td>\n",
       "    </tr>\n",
       "    <tr>\n",
       "      <th>36776</th>\n",
       "      <td>1953-04-15 12:00:00</td>\n",
       "      <td>5</td>\n",
       "      <td>us</td>\n",
       "      <td>los angeles</td>\n",
       "      <td>fireball</td>\n",
       "      <td>(34.0522222, -118.2427778)</td>\n",
       "      <td>(37.234332396, -115.80666344)</td>\n",
       "      <td>(33.3916667, -112.8638889)</td>\n",
       "      <td>502</td>\n",
       "      <td>416</td>\n",
       "    </tr>\n",
       "    <tr>\n",
       "      <th>26551</th>\n",
       "      <td>1951-02-15 11:00:00</td>\n",
       "      <td>2700</td>\n",
       "      <td>us</td>\n",
       "      <td>los angeles</td>\n",
       "      <td>disk</td>\n",
       "      <td>(34.0522222, -118.2427778)</td>\n",
       "      <td>(37.234332396, -115.80666344)</td>\n",
       "      <td>(33.3916667, -112.8638889)</td>\n",
       "      <td>502</td>\n",
       "      <td>416</td>\n",
       "    </tr>\n",
       "    <tr>\n",
       "      <th>35615</th>\n",
       "      <td>1949-04-10 15:00:00</td>\n",
       "      <td>600</td>\n",
       "      <td>us</td>\n",
       "      <td>seattle</td>\n",
       "      <td>disk</td>\n",
       "      <td>(47.6063889, -122.33083329999998)</td>\n",
       "      <td>(37.234332396, -115.80666344)</td>\n",
       "      <td>(33.3916667, -112.8638889)</td>\n",
       "      <td>1768</td>\n",
       "      <td>1270</td>\n",
       "    </tr>\n",
       "    <tr>\n",
       "      <th>61552</th>\n",
       "      <td>1947-07-04 17:30:00</td>\n",
       "      <td>10</td>\n",
       "      <td>us</td>\n",
       "      <td>seattle</td>\n",
       "      <td>oval</td>\n",
       "      <td>(47.6063889, -122.33083329999998)</td>\n",
       "      <td>(37.234332396, -115.80666344)</td>\n",
       "      <td>(33.3916667, -112.8638889)</td>\n",
       "      <td>1768</td>\n",
       "      <td>1270</td>\n",
       "    </tr>\n",
       "  </tbody>\n",
       "</table>\n",
       "<p>2057 rows × 10 columns</p>\n",
       "</div>"
      ],
      "text/plain": [
       "                 datetime duration_in_secs country         city      shape  \\\n",
       "41797 2014-05-01 21:00:00             2700      us  los angeles      light   \n",
       "39963 2014-04-30 21:10:00               60      us    las vegas      light   \n",
       "38936 2014-04-24 20:00:00              240      us      phoenix     circle   \n",
       "38756 2014-04-23 20:30:00              300      us      phoenix     circle   \n",
       "38073 2014-04-20 22:50:00                5      us      seattle  formation   \n",
       "...                   ...              ...     ...          ...        ...   \n",
       "55117 1954-07-01 22:00:00               15      us  los angeles     circle   \n",
       "36776 1953-04-15 12:00:00                5      us  los angeles   fireball   \n",
       "26551 1951-02-15 11:00:00             2700      us  los angeles       disk   \n",
       "35615 1949-04-10 15:00:00              600      us      seattle       disk   \n",
       "61552 1947-07-04 17:30:00               10      us      seattle       oval   \n",
       "\n",
       "                             coordinates            coordinates_area_51  \\\n",
       "41797         (34.0522222, -118.2427778)  (37.234332396, -115.80666344)   \n",
       "39963             (36.175, -115.1363889)  (37.234332396, -115.80666344)   \n",
       "38936  (33.4483333, -112.07333329999999)  (37.234332396, -115.80666344)   \n",
       "38756  (33.4483333, -112.07333329999999)  (37.234332396, -115.80666344)   \n",
       "38073  (47.6063889, -122.33083329999998)  (37.234332396, -115.80666344)   \n",
       "...                                  ...                            ...   \n",
       "55117         (34.0522222, -118.2427778)  (37.234332396, -115.80666344)   \n",
       "36776         (34.0522222, -118.2427778)  (37.234332396, -115.80666344)   \n",
       "26551         (34.0522222, -118.2427778)  (37.234332396, -115.80666344)   \n",
       "35615  (47.6063889, -122.33083329999998)  (37.234332396, -115.80666344)   \n",
       "61552  (47.6063889, -122.33083329999998)  (37.234332396, -115.80666344)   \n",
       "\n",
       "      coordinates_palo_verde_nuclear_generating_station  \\\n",
       "41797                        (33.3916667, -112.8638889)   \n",
       "39963                        (33.3916667, -112.8638889)   \n",
       "38936                        (33.3916667, -112.8638889)   \n",
       "38756                        (33.3916667, -112.8638889)   \n",
       "38073                        (33.3916667, -112.8638889)   \n",
       "...                                                 ...   \n",
       "55117                        (33.3916667, -112.8638889)   \n",
       "36776                        (33.3916667, -112.8638889)   \n",
       "26551                        (33.3916667, -112.8638889)   \n",
       "35615                        (33.3916667, -112.8638889)   \n",
       "61552                        (33.3916667, -112.8638889)   \n",
       "\n",
       "       distance_in _km_from_palo_verde_ngs  distance_in _km_from_a51  \n",
       "41797                                  502                       416  \n",
       "39963                                  372                       132  \n",
       "38936                                   73                       540  \n",
       "38756                                   73                       540  \n",
       "38073                                 1768                      1270  \n",
       "...                                    ...                       ...  \n",
       "55117                                  502                       416  \n",
       "36776                                  502                       416  \n",
       "26551                                  502                       416  \n",
       "35615                                 1768                      1270  \n",
       "61552                                 1768                      1270  \n",
       "\n",
       "[2057 rows x 10 columns]"
      ]
     },
     "execution_count": 113,
     "metadata": {},
     "output_type": "execute_result"
    }
   ],
   "source": [
    "df3.dropna(subset=['datetime'])"
   ]
  },
  {
   "cell_type": "code",
   "execution_count": 114,
   "metadata": {},
   "outputs": [
    {
     "data": {
      "text/plain": [
       "datetime                                                       1951-02-15 11:00:00\n",
       "duration_in_secs                                                              2700\n",
       "country                                                                         us\n",
       "city                                                                   los angeles\n",
       "shape                                                                         disk\n",
       "coordinates                                             (34.0522222, -118.2427778)\n",
       "coordinates_area_51                                  (37.234332396, -115.80666344)\n",
       "coordinates_palo_verde_nuclear_generating_station       (33.3916667, -112.8638889)\n",
       "distance_in _km_from_palo_verde_ngs                                            502\n",
       "distance_in _km_from_a51                                                       416\n",
       "Name: 26551, dtype: object"
      ]
     },
     "execution_count": 114,
     "metadata": {},
     "output_type": "execute_result"
    }
   ],
   "source": [
    "df3.iloc[2054]"
   ]
  },
  {
   "cell_type": "code",
   "execution_count": null,
   "metadata": {},
   "outputs": [],
   "source": [
    "df3.shape"
   ]
  },
  {
   "cell_type": "code",
   "execution_count": 150,
   "metadata": {},
   "outputs": [],
   "source": [
    "df=df3"
   ]
  },
  {
   "cell_type": "code",
   "execution_count": 151,
   "metadata": {},
   "outputs": [
    {
     "data": {
      "text/html": [
       "<div>\n",
       "<style scoped>\n",
       "    .dataframe tbody tr th:only-of-type {\n",
       "        vertical-align: middle;\n",
       "    }\n",
       "\n",
       "    .dataframe tbody tr th {\n",
       "        vertical-align: top;\n",
       "    }\n",
       "\n",
       "    .dataframe thead th {\n",
       "        text-align: right;\n",
       "    }\n",
       "</style>\n",
       "<table border=\"1\" class=\"dataframe\">\n",
       "  <thead>\n",
       "    <tr style=\"text-align: right;\">\n",
       "      <th></th>\n",
       "      <th>datetime</th>\n",
       "      <th>duration_in_secs</th>\n",
       "      <th>country</th>\n",
       "      <th>city</th>\n",
       "      <th>shape</th>\n",
       "      <th>coordinates</th>\n",
       "      <th>coordinates_area_51</th>\n",
       "      <th>coordinates_palo_verde_nuclear_generating_station</th>\n",
       "      <th>distance_in _km_from_palo_verde_ngs</th>\n",
       "      <th>distance_in _km_from_a51</th>\n",
       "    </tr>\n",
       "  </thead>\n",
       "  <tbody>\n",
       "    <tr>\n",
       "      <th>41797</th>\n",
       "      <td>2014-05-01 21:00:00</td>\n",
       "      <td>2700</td>\n",
       "      <td>us</td>\n",
       "      <td>los angeles</td>\n",
       "      <td>light</td>\n",
       "      <td>(34.0522222, -118.2427778)</td>\n",
       "      <td>(37.234332396, -115.80666344)</td>\n",
       "      <td>(33.3916667, -112.8638889)</td>\n",
       "      <td>502</td>\n",
       "      <td>416</td>\n",
       "    </tr>\n",
       "    <tr>\n",
       "      <th>39963</th>\n",
       "      <td>2014-04-30 21:10:00</td>\n",
       "      <td>60</td>\n",
       "      <td>us</td>\n",
       "      <td>las vegas</td>\n",
       "      <td>light</td>\n",
       "      <td>(36.175, -115.1363889)</td>\n",
       "      <td>(37.234332396, -115.80666344)</td>\n",
       "      <td>(33.3916667, -112.8638889)</td>\n",
       "      <td>372</td>\n",
       "      <td>132</td>\n",
       "    </tr>\n",
       "    <tr>\n",
       "      <th>38936</th>\n",
       "      <td>2014-04-24 20:00:00</td>\n",
       "      <td>240</td>\n",
       "      <td>us</td>\n",
       "      <td>phoenix</td>\n",
       "      <td>circle</td>\n",
       "      <td>(33.4483333, -112.07333329999999)</td>\n",
       "      <td>(37.234332396, -115.80666344)</td>\n",
       "      <td>(33.3916667, -112.8638889)</td>\n",
       "      <td>73</td>\n",
       "      <td>540</td>\n",
       "    </tr>\n",
       "    <tr>\n",
       "      <th>38756</th>\n",
       "      <td>2014-04-23 20:30:00</td>\n",
       "      <td>300</td>\n",
       "      <td>us</td>\n",
       "      <td>phoenix</td>\n",
       "      <td>circle</td>\n",
       "      <td>(33.4483333, -112.07333329999999)</td>\n",
       "      <td>(37.234332396, -115.80666344)</td>\n",
       "      <td>(33.3916667, -112.8638889)</td>\n",
       "      <td>73</td>\n",
       "      <td>540</td>\n",
       "    </tr>\n",
       "    <tr>\n",
       "      <th>38073</th>\n",
       "      <td>2014-04-20 22:50:00</td>\n",
       "      <td>5</td>\n",
       "      <td>us</td>\n",
       "      <td>seattle</td>\n",
       "      <td>formation</td>\n",
       "      <td>(47.6063889, -122.33083329999998)</td>\n",
       "      <td>(37.234332396, -115.80666344)</td>\n",
       "      <td>(33.3916667, -112.8638889)</td>\n",
       "      <td>1768</td>\n",
       "      <td>1270</td>\n",
       "    </tr>\n",
       "    <tr>\n",
       "      <th>...</th>\n",
       "      <td>...</td>\n",
       "      <td>...</td>\n",
       "      <td>...</td>\n",
       "      <td>...</td>\n",
       "      <td>...</td>\n",
       "      <td>...</td>\n",
       "      <td>...</td>\n",
       "      <td>...</td>\n",
       "      <td>...</td>\n",
       "      <td>...</td>\n",
       "    </tr>\n",
       "    <tr>\n",
       "      <th>47553</th>\n",
       "      <td>NaT</td>\n",
       "      <td>60</td>\n",
       "      <td>us</td>\n",
       "      <td>phoenix</td>\n",
       "      <td>oval</td>\n",
       "      <td>(33.4483333, -112.07333329999999)</td>\n",
       "      <td>(37.234332396, -115.80666344)</td>\n",
       "      <td>(33.3916667, -112.8638889)</td>\n",
       "      <td>73</td>\n",
       "      <td>540</td>\n",
       "    </tr>\n",
       "    <tr>\n",
       "      <th>56303</th>\n",
       "      <td>NaT</td>\n",
       "      <td>7200</td>\n",
       "      <td>us</td>\n",
       "      <td>los angeles</td>\n",
       "      <td>circle</td>\n",
       "      <td>(34.0522222, -118.2427778)</td>\n",
       "      <td>(37.234332396, -115.80666344)</td>\n",
       "      <td>(33.3916667, -112.8638889)</td>\n",
       "      <td>502</td>\n",
       "      <td>416</td>\n",
       "    </tr>\n",
       "    <tr>\n",
       "      <th>57326</th>\n",
       "      <td>NaT</td>\n",
       "      <td>300</td>\n",
       "      <td>us</td>\n",
       "      <td>portland</td>\n",
       "      <td>sphere</td>\n",
       "      <td>(45.5236111, -122.675)</td>\n",
       "      <td>(37.234332396, -115.80666344)</td>\n",
       "      <td>(33.3916667, -112.8638889)</td>\n",
       "      <td>1587</td>\n",
       "      <td>1084</td>\n",
       "    </tr>\n",
       "    <tr>\n",
       "      <th>61141</th>\n",
       "      <td>NaT</td>\n",
       "      <td>5400</td>\n",
       "      <td>us</td>\n",
       "      <td>los angeles</td>\n",
       "      <td>circle</td>\n",
       "      <td>(34.0522222, -118.2427778)</td>\n",
       "      <td>(37.234332396, -115.80666344)</td>\n",
       "      <td>(33.3916667, -112.8638889)</td>\n",
       "      <td>502</td>\n",
       "      <td>416</td>\n",
       "    </tr>\n",
       "    <tr>\n",
       "      <th>75647</th>\n",
       "      <td>NaT</td>\n",
       "      <td>360</td>\n",
       "      <td>us</td>\n",
       "      <td>phoenix</td>\n",
       "      <td>other</td>\n",
       "      <td>(33.4483333, -112.07333329999999)</td>\n",
       "      <td>(37.234332396, -115.80666344)</td>\n",
       "      <td>(33.3916667, -112.8638889)</td>\n",
       "      <td>73</td>\n",
       "      <td>540</td>\n",
       "    </tr>\n",
       "  </tbody>\n",
       "</table>\n",
       "<p>2070 rows × 10 columns</p>\n",
       "</div>"
      ],
      "text/plain": [
       "                 datetime duration_in_secs country         city      shape  \\\n",
       "41797 2014-05-01 21:00:00             2700      us  los angeles      light   \n",
       "39963 2014-04-30 21:10:00               60      us    las vegas      light   \n",
       "38936 2014-04-24 20:00:00              240      us      phoenix     circle   \n",
       "38756 2014-04-23 20:30:00              300      us      phoenix     circle   \n",
       "38073 2014-04-20 22:50:00                5      us      seattle  formation   \n",
       "...                   ...              ...     ...          ...        ...   \n",
       "47553                 NaT               60      us      phoenix       oval   \n",
       "56303                 NaT             7200      us  los angeles     circle   \n",
       "57326                 NaT              300      us     portland     sphere   \n",
       "61141                 NaT             5400      us  los angeles     circle   \n",
       "75647                 NaT              360      us      phoenix      other   \n",
       "\n",
       "                             coordinates            coordinates_area_51  \\\n",
       "41797         (34.0522222, -118.2427778)  (37.234332396, -115.80666344)   \n",
       "39963             (36.175, -115.1363889)  (37.234332396, -115.80666344)   \n",
       "38936  (33.4483333, -112.07333329999999)  (37.234332396, -115.80666344)   \n",
       "38756  (33.4483333, -112.07333329999999)  (37.234332396, -115.80666344)   \n",
       "38073  (47.6063889, -122.33083329999998)  (37.234332396, -115.80666344)   \n",
       "...                                  ...                            ...   \n",
       "47553  (33.4483333, -112.07333329999999)  (37.234332396, -115.80666344)   \n",
       "56303         (34.0522222, -118.2427778)  (37.234332396, -115.80666344)   \n",
       "57326             (45.5236111, -122.675)  (37.234332396, -115.80666344)   \n",
       "61141         (34.0522222, -118.2427778)  (37.234332396, -115.80666344)   \n",
       "75647  (33.4483333, -112.07333329999999)  (37.234332396, -115.80666344)   \n",
       "\n",
       "      coordinates_palo_verde_nuclear_generating_station  \\\n",
       "41797                        (33.3916667, -112.8638889)   \n",
       "39963                        (33.3916667, -112.8638889)   \n",
       "38936                        (33.3916667, -112.8638889)   \n",
       "38756                        (33.3916667, -112.8638889)   \n",
       "38073                        (33.3916667, -112.8638889)   \n",
       "...                                                 ...   \n",
       "47553                        (33.3916667, -112.8638889)   \n",
       "56303                        (33.3916667, -112.8638889)   \n",
       "57326                        (33.3916667, -112.8638889)   \n",
       "61141                        (33.3916667, -112.8638889)   \n",
       "75647                        (33.3916667, -112.8638889)   \n",
       "\n",
       "       distance_in _km_from_palo_verde_ngs  distance_in _km_from_a51  \n",
       "41797                                  502                       416  \n",
       "39963                                  372                       132  \n",
       "38936                                   73                       540  \n",
       "38756                                   73                       540  \n",
       "38073                                 1768                      1270  \n",
       "...                                    ...                       ...  \n",
       "47553                                   73                       540  \n",
       "56303                                  502                       416  \n",
       "57326                                 1587                      1084  \n",
       "61141                                  502                       416  \n",
       "75647                                   73                       540  \n",
       "\n",
       "[2070 rows x 10 columns]"
      ]
     },
     "execution_count": 151,
     "metadata": {},
     "output_type": "execute_result"
    }
   ],
   "source": [
    "df"
   ]
  },
  {
   "cell_type": "code",
   "execution_count": 115,
   "metadata": {},
   "outputs": [],
   "source": [
    "from selenium import webdriver"
   ]
  },
  {
   "cell_type": "code",
   "execution_count": 116,
   "metadata": {},
   "outputs": [
    {
     "data": {
      "text/plain": [
       "<selenium.webdriver.chrome.webdriver.WebDriver (session=\"e276e8d7cd27f03ac6fece5298d8f2d3\")>"
      ]
     },
     "execution_count": 116,
     "metadata": {},
     "output_type": "execute_result"
    }
   ],
   "source": [
    "webdriver.Chrome('/mnt/c/Users/Vicente/Desktop/Semana_3/lab_scraping_selenium/your-code/chromedriver.exe')"
   ]
  },
  {
   "cell_type": "code",
   "execution_count": 117,
   "metadata": {},
   "outputs": [],
   "source": [
    "PATH = '/mnt/c/Users/Vicente/Desktop/Semana_3/lab_scraping_selenium/your-code/chromedriver.exe'"
   ]
  },
  {
   "cell_type": "code",
   "execution_count": 118,
   "metadata": {},
   "outputs": [
    {
     "data": {
      "text/plain": [
       "['37.234332396 -115.80666344']"
      ]
     },
     "execution_count": 118,
     "metadata": {},
     "output_type": "execute_result"
    }
   ],
   "source": [
    "driver=webdriver.Chrome(PATH)\n",
    "url = 'https://latitude.to/articles-by-country/us/united-states/120/area-51'\n",
    "driver.get(url)\n",
    "dd=driver.find_elements_by_id('DD')\n",
    "dd\n",
    "coordenadas=[a.get_attribute('value') for a in dd]\n",
    "coordenadas"
   ]
  },
  {
   "cell_type": "code",
   "execution_count": 119,
   "metadata": {},
   "outputs": [
    {
     "data": {
      "text/html": [
       "<div>\n",
       "<style scoped>\n",
       "    .dataframe tbody tr th:only-of-type {\n",
       "        vertical-align: middle;\n",
       "    }\n",
       "\n",
       "    .dataframe tbody tr th {\n",
       "        vertical-align: top;\n",
       "    }\n",
       "\n",
       "    .dataframe thead th {\n",
       "        text-align: right;\n",
       "    }\n",
       "</style>\n",
       "<table border=\"1\" class=\"dataframe\">\n",
       "  <thead>\n",
       "    <tr style=\"text-align: right;\">\n",
       "      <th></th>\n",
       "      <th>area_51_coordinates</th>\n",
       "    </tr>\n",
       "  </thead>\n",
       "  <tbody>\n",
       "    <tr>\n",
       "      <th>0</th>\n",
       "      <td>37.234332396 -115.80666344</td>\n",
       "    </tr>\n",
       "  </tbody>\n",
       "</table>\n",
       "</div>"
      ],
      "text/plain": [
       "          area_51_coordinates\n",
       "0  37.234332396 -115.80666344"
      ]
     },
     "execution_count": 119,
     "metadata": {},
     "output_type": "execute_result"
    }
   ],
   "source": [
    "pd.DataFrame(coordenadas,columns= ['area_51_coordinates']) #generar un dataframe de un webscrapping"
   ]
  },
  {
   "cell_type": "code",
   "execution_count": 121,
   "metadata": {},
   "outputs": [
    {
     "ename": "TypeError",
     "evalue": "'str' object is not callable",
     "output_type": "error",
     "traceback": [
      "\u001b[0;31m---------------------------------------------------------------------------\u001b[0m",
      "\u001b[0;31mTypeError\u001b[0m                                 Traceback (most recent call last)",
      "\u001b[0;32m<ipython-input-121-5a5495a08ffc>\u001b[0m in \u001b[0;36m<module>\u001b[0;34m\u001b[0m\n\u001b[1;32m      4\u001b[0m \u001b[0mdd_palo\u001b[0m\u001b[0;34m=\u001b[0m\u001b[0mdriver\u001b[0m\u001b[0;34m.\u001b[0m\u001b[0mfind_elements_by_id\u001b[0m\u001b[0;34m(\u001b[0m\u001b[0;34m'data'\u001b[0m\u001b[0;34m)\u001b[0m\u001b[0;34m\u001b[0m\u001b[0;34m\u001b[0m\u001b[0m\n\u001b[1;32m      5\u001b[0m \u001b[0mdd_palo\u001b[0m\u001b[0;34m\u001b[0m\u001b[0;34m\u001b[0m\u001b[0m\n\u001b[0;32m----> 6\u001b[0;31m \u001b[0mcoordenadas1\u001b[0m\u001b[0;34m=\u001b[0m\u001b[0;34m[\u001b[0m\u001b[0ma\u001b[0m\u001b[0;34m.\u001b[0m\u001b[0mtext\u001b[0m\u001b[0;34m(\u001b[0m\u001b[0;34m'strong'\u001b[0m\u001b[0;34m)\u001b[0m \u001b[0;32mfor\u001b[0m \u001b[0ma\u001b[0m \u001b[0;32min\u001b[0m \u001b[0mdd_palo\u001b[0m\u001b[0;34m]\u001b[0m\u001b[0;34m\u001b[0m\u001b[0;34m\u001b[0m\u001b[0m\n\u001b[0m",
      "\u001b[0;32m<ipython-input-121-5a5495a08ffc>\u001b[0m in \u001b[0;36m<listcomp>\u001b[0;34m(.0)\u001b[0m\n\u001b[1;32m      4\u001b[0m \u001b[0mdd_palo\u001b[0m\u001b[0;34m=\u001b[0m\u001b[0mdriver\u001b[0m\u001b[0;34m.\u001b[0m\u001b[0mfind_elements_by_id\u001b[0m\u001b[0;34m(\u001b[0m\u001b[0;34m'data'\u001b[0m\u001b[0;34m)\u001b[0m\u001b[0;34m\u001b[0m\u001b[0;34m\u001b[0m\u001b[0m\n\u001b[1;32m      5\u001b[0m \u001b[0mdd_palo\u001b[0m\u001b[0;34m\u001b[0m\u001b[0;34m\u001b[0m\u001b[0m\n\u001b[0;32m----> 6\u001b[0;31m \u001b[0mcoordenadas1\u001b[0m\u001b[0;34m=\u001b[0m\u001b[0;34m[\u001b[0m\u001b[0ma\u001b[0m\u001b[0;34m.\u001b[0m\u001b[0mtext\u001b[0m\u001b[0;34m(\u001b[0m\u001b[0;34m'strong'\u001b[0m\u001b[0;34m)\u001b[0m \u001b[0;32mfor\u001b[0m \u001b[0ma\u001b[0m \u001b[0;32min\u001b[0m \u001b[0mdd_palo\u001b[0m\u001b[0;34m]\u001b[0m\u001b[0;34m\u001b[0m\u001b[0;34m\u001b[0m\u001b[0m\n\u001b[0m",
      "\u001b[0;31mTypeError\u001b[0m: 'str' object is not callable"
     ]
    }
   ],
   "source": [
    "driver=webdriver.Chrome(PATH)\n",
    "url = 'https://www.topozone.com/arizona/maricopa-az/locale/palo-verde-nuclear-generating-station/'\n",
    "driver.get(url)\n",
    "dd_palo=driver.find_elements_by_id('data')\n",
    "dd_palo\n",
    "coordenadas1=[a.text('strong') for a in dd_palo]\n"
   ]
  },
  {
   "cell_type": "markdown",
   "metadata": {},
   "source": [
    "Mergeo del dataframe 2( registros USA UFOS(csv limpio) + coordenadas area 51 (webscapping)) + mergeo de los presidentes en EEUU (csv)"
   ]
  },
  {
   "cell_type": "code",
   "execution_count": 124,
   "metadata": {},
   "outputs": [],
   "source": [
    "df_p=pd.read_csv('us_presidents.csv')  #otro csv para hacer un estudio sobre cuantos avistamientos suceden dependiendo del presidente"
   ]
  },
  {
   "cell_type": "code",
   "execution_count": 125,
   "metadata": {},
   "outputs": [],
   "source": [
    "df_p=df_p.drop('Unnamed: 0',axis=1)"
   ]
  },
  {
   "cell_type": "code",
   "execution_count": 126,
   "metadata": {},
   "outputs": [],
   "source": [
    "df_p=df_p.drop('S.No.',axis=1)"
   ]
  },
  {
   "cell_type": "code",
   "execution_count": 127,
   "metadata": {},
   "outputs": [],
   "source": [
    "df_p=df_p.drop('prior',axis=1)"
   ]
  },
  {
   "cell_type": "code",
   "execution_count": 128,
   "metadata": {},
   "outputs": [],
   "source": [
    "df_p=df_p.drop('vice',axis=1)"
   ]
  },
  {
   "cell_type": "code",
   "execution_count": 129,
   "metadata": {},
   "outputs": [],
   "source": [
    "df_p=df_p.drop('party',axis=1)"
   ]
  },
  {
   "cell_type": "code",
   "execution_count": 130,
   "metadata": {},
   "outputs": [],
   "source": [
    "df_p.end= df_p.end.fillna('January 20, 2017')"
   ]
  },
  {
   "cell_type": "code",
   "execution_count": 131,
   "metadata": {},
   "outputs": [],
   "source": [
    "df_p['start']=pd.to_datetime(df_p['start'], errors='coerce')"
   ]
  },
  {
   "cell_type": "code",
   "execution_count": 132,
   "metadata": {},
   "outputs": [],
   "source": [
    "df_p['end']=pd.to_datetime(df_p['end'], errors='coerce')"
   ]
  },
  {
   "cell_type": "code",
   "execution_count": 133,
   "metadata": {},
   "outputs": [
    {
     "data": {
      "text/html": [
       "<div>\n",
       "<style scoped>\n",
       "    .dataframe tbody tr th:only-of-type {\n",
       "        vertical-align: middle;\n",
       "    }\n",
       "\n",
       "    .dataframe tbody tr th {\n",
       "        vertical-align: top;\n",
       "    }\n",
       "\n",
       "    .dataframe thead th {\n",
       "        text-align: right;\n",
       "    }\n",
       "</style>\n",
       "<table border=\"1\" class=\"dataframe\">\n",
       "  <thead>\n",
       "    <tr style=\"text-align: right;\">\n",
       "      <th></th>\n",
       "      <th>start</th>\n",
       "      <th>end</th>\n",
       "      <th>president</th>\n",
       "    </tr>\n",
       "  </thead>\n",
       "  <tbody>\n",
       "    <tr>\n",
       "      <th>0</th>\n",
       "      <td>1789-04-30</td>\n",
       "      <td>1797-03-04</td>\n",
       "      <td>George Washington</td>\n",
       "    </tr>\n",
       "    <tr>\n",
       "      <th>1</th>\n",
       "      <td>1797-03-04</td>\n",
       "      <td>1801-03-04</td>\n",
       "      <td>John Adams</td>\n",
       "    </tr>\n",
       "    <tr>\n",
       "      <th>2</th>\n",
       "      <td>1801-03-04</td>\n",
       "      <td>1809-03-04</td>\n",
       "      <td>Thomas Jefferson</td>\n",
       "    </tr>\n",
       "    <tr>\n",
       "      <th>3</th>\n",
       "      <td>1809-03-04</td>\n",
       "      <td>1817-03-04</td>\n",
       "      <td>James Madison</td>\n",
       "    </tr>\n",
       "    <tr>\n",
       "      <th>4</th>\n",
       "      <td>1817-03-04</td>\n",
       "      <td>1825-03-04</td>\n",
       "      <td>James Monroe</td>\n",
       "    </tr>\n",
       "    <tr>\n",
       "      <th>5</th>\n",
       "      <td>1825-03-04</td>\n",
       "      <td>1829-03-04</td>\n",
       "      <td>John Quincy Adams</td>\n",
       "    </tr>\n",
       "    <tr>\n",
       "      <th>6</th>\n",
       "      <td>1829-03-04</td>\n",
       "      <td>1837-03-04</td>\n",
       "      <td>Andrew Jackson</td>\n",
       "    </tr>\n",
       "    <tr>\n",
       "      <th>7</th>\n",
       "      <td>1837-03-04</td>\n",
       "      <td>1841-03-04</td>\n",
       "      <td>Martin Van Buren</td>\n",
       "    </tr>\n",
       "    <tr>\n",
       "      <th>8</th>\n",
       "      <td>1841-03-04</td>\n",
       "      <td>1841-04-04</td>\n",
       "      <td>William Henry Harrison</td>\n",
       "    </tr>\n",
       "    <tr>\n",
       "      <th>9</th>\n",
       "      <td>1841-04-04</td>\n",
       "      <td>1845-03-04</td>\n",
       "      <td>John Tyler</td>\n",
       "    </tr>\n",
       "    <tr>\n",
       "      <th>10</th>\n",
       "      <td>1845-03-04</td>\n",
       "      <td>1849-03-04</td>\n",
       "      <td>James K. Polk</td>\n",
       "    </tr>\n",
       "    <tr>\n",
       "      <th>11</th>\n",
       "      <td>1849-03-04</td>\n",
       "      <td>1850-07-09</td>\n",
       "      <td>Zachary Taylor</td>\n",
       "    </tr>\n",
       "    <tr>\n",
       "      <th>12</th>\n",
       "      <td>1850-07-09</td>\n",
       "      <td>1853-03-04</td>\n",
       "      <td>Millard Fillmore</td>\n",
       "    </tr>\n",
       "    <tr>\n",
       "      <th>13</th>\n",
       "      <td>1853-03-04</td>\n",
       "      <td>1857-03-04</td>\n",
       "      <td>Franklin Pierce</td>\n",
       "    </tr>\n",
       "    <tr>\n",
       "      <th>14</th>\n",
       "      <td>1857-03-04</td>\n",
       "      <td>1861-03-04</td>\n",
       "      <td>James Buchanan</td>\n",
       "    </tr>\n",
       "    <tr>\n",
       "      <th>15</th>\n",
       "      <td>1861-03-04</td>\n",
       "      <td>1865-04-15</td>\n",
       "      <td>Abraham Lincoln</td>\n",
       "    </tr>\n",
       "    <tr>\n",
       "      <th>16</th>\n",
       "      <td>1865-04-15</td>\n",
       "      <td>1869-03-04</td>\n",
       "      <td>Andrew Johnson</td>\n",
       "    </tr>\n",
       "    <tr>\n",
       "      <th>17</th>\n",
       "      <td>1869-03-04</td>\n",
       "      <td>1877-03-04</td>\n",
       "      <td>Ulysses S. Grant</td>\n",
       "    </tr>\n",
       "    <tr>\n",
       "      <th>18</th>\n",
       "      <td>1877-03-04</td>\n",
       "      <td>1881-03-04</td>\n",
       "      <td>Rutherford B. Hayes</td>\n",
       "    </tr>\n",
       "    <tr>\n",
       "      <th>19</th>\n",
       "      <td>1881-03-04</td>\n",
       "      <td>1881-09-19</td>\n",
       "      <td>James A. Garfield</td>\n",
       "    </tr>\n",
       "    <tr>\n",
       "      <th>20</th>\n",
       "      <td>1881-09-19</td>\n",
       "      <td>1885-03-04</td>\n",
       "      <td>Chester A. Arthur</td>\n",
       "    </tr>\n",
       "    <tr>\n",
       "      <th>21</th>\n",
       "      <td>1885-03-04</td>\n",
       "      <td>1889-03-04</td>\n",
       "      <td>Grover Cleveland</td>\n",
       "    </tr>\n",
       "    <tr>\n",
       "      <th>22</th>\n",
       "      <td>1889-03-04</td>\n",
       "      <td>1893-03-04</td>\n",
       "      <td>Benjamin Harrison</td>\n",
       "    </tr>\n",
       "    <tr>\n",
       "      <th>23</th>\n",
       "      <td>1893-03-04</td>\n",
       "      <td>1897-03-04</td>\n",
       "      <td>Grover Cleveland</td>\n",
       "    </tr>\n",
       "    <tr>\n",
       "      <th>24</th>\n",
       "      <td>1897-03-04</td>\n",
       "      <td>1901-09-14</td>\n",
       "      <td>William McKinley</td>\n",
       "    </tr>\n",
       "    <tr>\n",
       "      <th>25</th>\n",
       "      <td>1901-09-14</td>\n",
       "      <td>1909-03-04</td>\n",
       "      <td>Theodore Roosevelt</td>\n",
       "    </tr>\n",
       "    <tr>\n",
       "      <th>26</th>\n",
       "      <td>1909-03-04</td>\n",
       "      <td>1913-03-04</td>\n",
       "      <td>William Howard Taft</td>\n",
       "    </tr>\n",
       "    <tr>\n",
       "      <th>27</th>\n",
       "      <td>1913-03-04</td>\n",
       "      <td>1921-03-04</td>\n",
       "      <td>Woodrow Wilson</td>\n",
       "    </tr>\n",
       "    <tr>\n",
       "      <th>28</th>\n",
       "      <td>1921-03-04</td>\n",
       "      <td>1923-08-02</td>\n",
       "      <td>Warren G. Harding</td>\n",
       "    </tr>\n",
       "    <tr>\n",
       "      <th>29</th>\n",
       "      <td>1923-08-02</td>\n",
       "      <td>1929-03-04</td>\n",
       "      <td>Calvin Coolidge</td>\n",
       "    </tr>\n",
       "    <tr>\n",
       "      <th>30</th>\n",
       "      <td>1929-03-04</td>\n",
       "      <td>1933-03-04</td>\n",
       "      <td>Herbert Hoover</td>\n",
       "    </tr>\n",
       "    <tr>\n",
       "      <th>31</th>\n",
       "      <td>1933-03-04</td>\n",
       "      <td>1941-01-20</td>\n",
       "      <td>Franklin D. Roosevelt</td>\n",
       "    </tr>\n",
       "    <tr>\n",
       "      <th>32</th>\n",
       "      <td>1945-04-12</td>\n",
       "      <td>1953-01-20</td>\n",
       "      <td>Harry S. Truman</td>\n",
       "    </tr>\n",
       "    <tr>\n",
       "      <th>33</th>\n",
       "      <td>1953-01-20</td>\n",
       "      <td>1961-01-20</td>\n",
       "      <td>Dwight D. Eisenhower</td>\n",
       "    </tr>\n",
       "    <tr>\n",
       "      <th>34</th>\n",
       "      <td>1961-01-20</td>\n",
       "      <td>1963-11-22</td>\n",
       "      <td>John F. Kennedy</td>\n",
       "    </tr>\n",
       "    <tr>\n",
       "      <th>35</th>\n",
       "      <td>1963-11-22</td>\n",
       "      <td>1969-01-20</td>\n",
       "      <td>Lyndon B. Johnson</td>\n",
       "    </tr>\n",
       "    <tr>\n",
       "      <th>36</th>\n",
       "      <td>1969-01-20</td>\n",
       "      <td>1974-08-09</td>\n",
       "      <td>Richard Nixon</td>\n",
       "    </tr>\n",
       "    <tr>\n",
       "      <th>37</th>\n",
       "      <td>1974-08-09</td>\n",
       "      <td>1977-01-20</td>\n",
       "      <td>Gerald Ford</td>\n",
       "    </tr>\n",
       "    <tr>\n",
       "      <th>38</th>\n",
       "      <td>1977-01-20</td>\n",
       "      <td>1981-01-20</td>\n",
       "      <td>Jimmy Carter</td>\n",
       "    </tr>\n",
       "    <tr>\n",
       "      <th>39</th>\n",
       "      <td>1981-01-20</td>\n",
       "      <td>1989-01-20</td>\n",
       "      <td>Ronald Reagan</td>\n",
       "    </tr>\n",
       "    <tr>\n",
       "      <th>40</th>\n",
       "      <td>1989-01-20</td>\n",
       "      <td>1993-01-20</td>\n",
       "      <td>George H. W. Bush</td>\n",
       "    </tr>\n",
       "    <tr>\n",
       "      <th>41</th>\n",
       "      <td>1993-01-20</td>\n",
       "      <td>2001-01-20</td>\n",
       "      <td>Bill Clinton</td>\n",
       "    </tr>\n",
       "    <tr>\n",
       "      <th>42</th>\n",
       "      <td>2001-01-20</td>\n",
       "      <td>2009-01-20</td>\n",
       "      <td>George W. Bush</td>\n",
       "    </tr>\n",
       "    <tr>\n",
       "      <th>43</th>\n",
       "      <td>2009-01-20</td>\n",
       "      <td>2017-01-20</td>\n",
       "      <td>Barack Obama</td>\n",
       "    </tr>\n",
       "    <tr>\n",
       "      <th>44</th>\n",
       "      <td>2017-01-20</td>\n",
       "      <td>NaT</td>\n",
       "      <td>Donald Trump</td>\n",
       "    </tr>\n",
       "  </tbody>\n",
       "</table>\n",
       "</div>"
      ],
      "text/plain": [
       "        start        end               president\n",
       "0  1789-04-30 1797-03-04       George Washington\n",
       "1  1797-03-04 1801-03-04              John Adams\n",
       "2  1801-03-04 1809-03-04        Thomas Jefferson\n",
       "3  1809-03-04 1817-03-04           James Madison\n",
       "4  1817-03-04 1825-03-04            James Monroe\n",
       "5  1825-03-04 1829-03-04       John Quincy Adams\n",
       "6  1829-03-04 1837-03-04          Andrew Jackson\n",
       "7  1837-03-04 1841-03-04        Martin Van Buren\n",
       "8  1841-03-04 1841-04-04  William Henry Harrison\n",
       "9  1841-04-04 1845-03-04              John Tyler\n",
       "10 1845-03-04 1849-03-04           James K. Polk\n",
       "11 1849-03-04 1850-07-09          Zachary Taylor\n",
       "12 1850-07-09 1853-03-04        Millard Fillmore\n",
       "13 1853-03-04 1857-03-04         Franklin Pierce\n",
       "14 1857-03-04 1861-03-04          James Buchanan\n",
       "15 1861-03-04 1865-04-15         Abraham Lincoln\n",
       "16 1865-04-15 1869-03-04          Andrew Johnson\n",
       "17 1869-03-04 1877-03-04        Ulysses S. Grant\n",
       "18 1877-03-04 1881-03-04     Rutherford B. Hayes\n",
       "19 1881-03-04 1881-09-19       James A. Garfield\n",
       "20 1881-09-19 1885-03-04       Chester A. Arthur\n",
       "21 1885-03-04 1889-03-04        Grover Cleveland\n",
       "22 1889-03-04 1893-03-04       Benjamin Harrison\n",
       "23 1893-03-04 1897-03-04        Grover Cleveland\n",
       "24 1897-03-04 1901-09-14        William McKinley\n",
       "25 1901-09-14 1909-03-04      Theodore Roosevelt\n",
       "26 1909-03-04 1913-03-04     William Howard Taft\n",
       "27 1913-03-04 1921-03-04          Woodrow Wilson\n",
       "28 1921-03-04 1923-08-02       Warren G. Harding\n",
       "29 1923-08-02 1929-03-04         Calvin Coolidge\n",
       "30 1929-03-04 1933-03-04          Herbert Hoover\n",
       "31 1933-03-04 1941-01-20   Franklin D. Roosevelt\n",
       "32 1945-04-12 1953-01-20         Harry S. Truman\n",
       "33 1953-01-20 1961-01-20    Dwight D. Eisenhower\n",
       "34 1961-01-20 1963-11-22         John F. Kennedy\n",
       "35 1963-11-22 1969-01-20       Lyndon B. Johnson\n",
       "36 1969-01-20 1974-08-09           Richard Nixon\n",
       "37 1974-08-09 1977-01-20             Gerald Ford\n",
       "38 1977-01-20 1981-01-20            Jimmy Carter\n",
       "39 1981-01-20 1989-01-20           Ronald Reagan\n",
       "40 1989-01-20 1993-01-20       George H. W. Bush\n",
       "41 1993-01-20 2001-01-20            Bill Clinton\n",
       "42 2001-01-20 2009-01-20          George W. Bush\n",
       "43 2009-01-20 2017-01-20            Barack Obama\n",
       "44 2017-01-20        NaT            Donald Trump"
      ]
     },
     "execution_count": 133,
     "metadata": {},
     "output_type": "execute_result"
    }
   ],
   "source": [
    "df_p"
   ]
  },
  {
   "cell_type": "code",
   "execution_count": 158,
   "metadata": {},
   "outputs": [],
   "source": [
    "df.to_csv('../Proyecto_ETL/ufo.csv', index=False) #guardar todos los cambios en un csv por si acaso"
   ]
  },
  {
   "cell_type": "code",
   "execution_count": 134,
   "metadata": {},
   "outputs": [],
   "source": [
    "import mysql.connector as conn\n"
   ]
  },
  {
   "cell_type": "code",
   "execution_count": 135,
   "metadata": {},
   "outputs": [],
   "source": [
    "def crear_db(nombre, user='root', password='xx', check=True):\n",
    "    \n",
    "    crea_db=conn.connect(host='localhost', user= user, passwd= password)\n",
    "\n",
    "    cursor=crea_db.cursor()\n",
    "\n",
    "    cursor.execute(f'drop database if exists {nombre}')\n",
    "    cursor.execute(f'create database {nombre}')\n",
    "    \n",
    "    print('Hecho, base de datos creada. ;)')\n",
    "    \n",
    "    if check:\n",
    "        cursor.execute('show databases')\n",
    "        for x in cursor:\n",
    "            print(x)"
   ]
  },
  {
   "cell_type": "code",
   "execution_count": 155,
   "metadata": {},
   "outputs": [],
   "source": [
    "def crear_tabla_desde_df(df, nombre_tabla, nombre_db, user='root', password='xx', check=True, drop=False):\n",
    "    \n",
    "    db=conn.connect(host='localhost', user=user, passwd=password, database=nombre_db)\n",
    "    cursor=db.cursor()\n",
    "    \n",
    "    if drop:\n",
    "        cursor.execute(f'drop table if exists {nombre_tabla}')\n",
    "    \n",
    "    tabla=f\"create table {nombre_tabla}(id int, {' varchar(200),'.join(df.columns)} varchar(200));\"\n",
    "    print(tabla)\n",
    "    \n",
    "    cursor.execute(tabla)\n",
    "    \n",
    "    print(f'Hecho, tabla {nombre_tabla} creada. ;)')\n",
    "    \n",
    "    if check:\n",
    "        cursor.execute('show tables')\n",
    "        for x in cursor:\n",
    "            print(x)"
   ]
  },
  {
   "cell_type": "code",
   "execution_count": 152,
   "metadata": {},
   "outputs": [],
   "source": [
    "def insertar_datos(df, nombre_tabla, nombre_db, user='root', password='xx', check=True):\n",
    "    \n",
    "    db=conn.connect(host='localhost', user=user, passwd=password, database=nombre_db)\n",
    "    cursor=db.cursor()\n",
    "    \n",
    "    for i in range(len(df)):\n",
    "    \n",
    "        insert_query='insert into {} (id, {}) values {};'\\\n",
    "                     .format(nombre_tabla, ','.join(df.columns), tuple(np.insert(df.iloc[i].values, 0, i)))\n",
    "\n",
    "        cursor.execute(insert_query)\n",
    "\n",
    "    db.commit()\n",
    "    \n",
    "    print(f'Hecho, datos dentro de tabla {nombre_tabla}. ;)')\n",
    "    print()\n",
    "    print(insert_query)"
   ]
  },
  {
   "cell_type": "code",
   "execution_count": 153,
   "metadata": {},
   "outputs": [],
   "source": [
    "def leer_sql(query, nombre_tabla, nombre_db, user='root', password='xx'):\n",
    "    \n",
    "    db=conn.connect(host='localhost', user=user, passwd=password, database=nombre_db)\n",
    "    \n",
    "    data=pd.read_sql(query, db)\n",
    "    \n",
    "    return data"
   ]
  },
  {
   "cell_type": "code",
   "execution_count": 140,
   "metadata": {},
   "outputs": [
    {
     "name": "stdout",
     "output_type": "stream",
     "text": [
      "Hecho, base de datos creada. ;)\n",
      "('df3',)\n",
      "('information_schema',)\n",
      "('mydb',)\n",
      "('mysql',)\n",
      "('performance_schema',)\n",
      "('proyectosharks',)\n",
      "('publication',)\n",
      "('sakila',)\n",
      "('sharks',)\n",
      "('sys',)\n",
      "('ufos',)\n",
      "('world',)\n"
     ]
    }
   ],
   "source": [
    "crear_db('ufos')"
   ]
  },
  {
   "cell_type": "code",
   "execution_count": null,
   "metadata": {},
   "outputs": [],
   "source": [
    "insertar_datos(df, 'ufos', 'df3')"
   ]
  },
  {
   "cell_type": "code",
   "execution_count": null,
   "metadata": {},
   "outputs": [],
   "source": [
    "leer_sql('select * from ufos limit 3', 'ufos', 'df3')  # query, tabla, db"
   ]
  },
  {
   "cell_type": "code",
   "execution_count": null,
   "metadata": {},
   "outputs": [],
   "source": []
  }
 ],
 "metadata": {
  "kernelspec": {
   "display_name": "Python 3",
   "language": "python",
   "name": "python3"
  },
  "language_info": {
   "codemirror_mode": {
    "name": "ipython",
    "version": 3
   },
   "file_extension": ".py",
   "mimetype": "text/x-python",
   "name": "python",
   "nbconvert_exporter": "python",
   "pygments_lexer": "ipython3",
   "version": "3.8.5"
  }
 },
 "nbformat": 4,
 "nbformat_minor": 4
}
